{
  "cells": [
    {
      "cell_type": "code",
      "execution_count": null,
      "metadata": {
        "id": "j2Fa0l-8nTPM"
      },
      "outputs": [],
      "source": [
        "from google.colab import drive\n",
        "drive.mount('/content/drive')"
      ]
    },
    {
      "cell_type": "code",
      "execution_count": null,
      "metadata": {
        "id": "lonXxb6KnTPN"
      },
      "outputs": [],
      "source": [
        "import os, sys, time, tarfile, subprocess, textwrap, shutil, datetime\n",
        "from pathlib import Path\n",
        "\n",
        "REPO_URL = \"https://github.com/SzymonSmagowski/DeepLearningCourse.git\"\n",
        "BRANCH = \"main\"\n",
        "DATA_IN_DRIVE = \"data/processed_cats.zip\"\n",
        "\n",
        "ROOT_DRIVE = Path(\"/content/drive/MyDrive\")\n",
        "DATA_SRC = ROOT_DRIVE / DATA_IN_DRIVE\n",
        "\n",
        "DATA_DST = Path(\"/content/data\")\n",
        "REPO_DIR = Path(\"/content\") / Path(REPO_URL).stem\n",
        "OUTPUTS_DIR = ROOT_DRIVE / \"project_3\" / datetime.datetime.now().strftime(\"%Y-%m-%d_%H-%M-%S\")\n",
        "PROJECT_DIR = REPO_DIR / \"project_3\"\n",
        "\n",
        "print(\"Repo dir:\", REPO_DIR)\n",
        "print(\"Data src:\", DATA_SRC)\n",
        "print(\"Data dst:\", DATA_DST)\n",
        "print(\"Outputs dir:\", OUTPUTS_DIR)"
      ]
    },
    {
      "cell_type": "code",
      "execution_count": null,
      "metadata": {
        "id": "dK6kPH70nTPN"
      },
      "outputs": [],
      "source": [
        "if not REPO_DIR.exists():\n",
        "    !git clone -b \"$BRANCH\" \"$REPO_URL\" \"$REPO_DIR\"\n",
        "else:\n",
        "    %cd $REPO_DIR\n",
        "    !git pull origin \"$BRANCH\"\n",
        "    %cd -"
      ]
    },
    {
      "cell_type": "code",
      "execution_count": null,
      "metadata": {
        "id": "MdfKW9wAnTPN"
      },
      "outputs": [],
      "source": [
        "DATA_NAME   = \"processed_cats.zip\"\n",
        "\n",
        "# full path once extracted in Colab\n",
        "LOCAL_DATA = PROJECT_DIR / 'data'\n",
        "LOCAL_DATA_ZIP = LOCAL_DATA / DATA_NAME\n",
        "LOCAL_DATA.mkdir(exist_ok=True, parents=True)\n",
        "\n",
        "# --- logic --------------------------------------------------\n",
        "if LOCAL_DATA_ZIP.exists():\n",
        "    print(f\"✓ dataset already present at {LOCAL_DATA_ZIP}\")\n",
        "elif DATA_SRC.exists():                                # extracted on Drive\n",
        "    LOCAL_DATA_ZIP.symlink_to(DATA_SRC)\n",
        "    print(f\"🔗  Symlinked {DATA_SRC} → {LOCAL_DATA}\")\n",
        "else:\n",
        "    raise FileNotFoundError(\n",
        "        \"Dataset not found!\\n\"\n",
        "        f\"Looked for: {DATA_SRC}\"\n",
        "    )"
      ]
    },
    {
      "cell_type": "code",
      "source": [
        "!unzip -nq $LOCAL_DATA_ZIP -d $LOCAL_DATA"
      ],
      "metadata": {
        "id": "81-iLVuA_HR3"
      },
      "execution_count": null,
      "outputs": []
    },
    {
      "cell_type": "code",
      "execution_count": null,
      "metadata": {
        "id": "c_ysUS4nnTPO"
      },
      "outputs": [],
      "source": [
        "!pip install -q -r DeepLearningCourse/project_3/requirements.txt"
      ]
    },
    {
      "cell_type": "code",
      "source": [
        "def run_and_tee(cmd, cwd, extra_env=None):\n",
        "    \"\"\"\n",
        "    Run *cmd* (list/str) inside *cwd*. Return exit-code.\n",
        "    \"\"\"\n",
        "    env = os.environ.copy()\n",
        "    if extra_env:\n",
        "        env.update(extra_env)\n",
        "\n",
        "    if isinstance(cmd, str):\n",
        "        cmd = cmd.split()\n",
        "\n",
        "    print(\"💻\", \" \".join(cmd))\n",
        "    proc = subprocess.Popen(\n",
        "        cmd, stdout=subprocess.PIPE, stderr=subprocess.STDOUT,\n",
        "        cwd=str(cwd), env=env, text=True\n",
        "    )\n",
        "    for line in proc.stdout:\n",
        "        print(line, end=\"\")\n",
        "    proc.wait()\n",
        "    return proc.returncode"
      ],
      "metadata": {
        "id": "KJxIHTdMFoLE"
      },
      "execution_count": null,
      "outputs": []
    },
    {
      "cell_type": "code",
      "source": [
        "CONFIGS = [\n",
        "    ('DIFFUSION', 'diffusion_fast_test.yaml'),\n",
        "    ('GAN', 'gan_fast_test.yaml')\n",
        "#     ('DIFFUSION', 'diffusion_128.yaml'),\n",
        "#     ('DIFFUSION', 'diffusion_256.yaml'),\n",
        "#     ('GAN', 'gan_128.yaml'),\n",
        "#     ('GAN', 'gan_256.yaml'),\n",
        "]\n",
        "\n",
        "cmd = [\n",
        "    sys.executable, 'colabify_configs.py',\n",
        "    '--prefix', str(OUTPUTS_DIR)\n",
        "]\n",
        "code = run_and_tee(cmd, cwd=PROJECT_DIR)\n",
        "if code != 0:\n",
        "    raise RuntimeError(f\"colabify_configs.py failed (exit {code})\")"
      ],
      "metadata": {
        "id": "HFBi4gtqFsHw"
      },
      "execution_count": null,
      "outputs": []
    },
    {
      "cell_type": "code",
      "execution_count": null,
      "metadata": {
        "id": "049hAfrTnTPO"
      },
      "outputs": [],
      "source": [
        "failed = []\n",
        "for model, config_name in CONFIGS:\n",
        "    model_path = PROJECT_DIR / model\n",
        "    mname      = model_path.stem\n",
        "    print(f\"\\n▶️  Running {model} on config {config_name}\")\n",
        "    config_path = PROJECT_DIR / 'configs' / config_name\n",
        "\n",
        "    executable = PROJECT_DIR / \\\n",
        "     ('train_diffusion.py' if model == 'DIFFUSION' else 'train_gan.py')\n",
        "    run_results = OUTPUTS_DIR / mname\n",
        "    cmd = [\n",
        "        sys.executable, str(executable),\n",
        "        '--config', str(config_path)\n",
        "    ]\n",
        "    rc = run_and_tee(cmd, cwd=PROJECT_DIR)\n",
        "    if rc == 0:\n",
        "        print(f\"✅  {model} / {config_name} finished OK\")\n",
        "    else:\n",
        "        print(f\"❌  {model} / {config_name} FAILED (exit {rc})\")\n",
        "        failed.append((model, config_name))\n",
        "\n",
        "print(\"\\n\" + \"═\"*35 + \" SUMMARY \" + \"═\"*35)\n",
        "if failed:\n",
        "    print(\"The following runs failed:\")\n",
        "    for m, c in failed:\n",
        "        print(f\"  • {m}: {c}\")\n",
        "else:\n",
        "    print(\"🎉  All runs completed successfully!\")"
      ]
    },
    {
      "cell_type": "code",
      "source": [],
      "metadata": {
        "id": "UFCTybHSGpTG"
      },
      "execution_count": null,
      "outputs": []
    }
  ],
  "metadata": {
    "kernelspec": {
      "display_name": "Python 3",
      "name": "python3"
    },
    "language_info": {
      "name": "python",
      "version": "3.12.3"
    },
    "colab": {
      "provenance": [],
      "machine_shape": "hm",
      "gpuType": "L4"
    },
    "accelerator": "GPU"
  },
  "nbformat": 4,
  "nbformat_minor": 0
}