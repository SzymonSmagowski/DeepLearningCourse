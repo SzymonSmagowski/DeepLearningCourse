{
 "cells": [
  {
   "cell_type": "code",
   "execution_count": 1,
   "metadata": {},
   "outputs": [],
   "source": [
    "import os\n",
    "import random\n",
    "import numpy as np\n",
    "import torch\n",
    "import torch.nn as nn\n",
    "import torch.optim as optim\n",
    "import torchvision.transforms as transforms\n",
    "from torch.utils.data import DataLoader, Subset, ConcatDataset\n",
    "from torchvision.datasets import ImageFolder\n",
    "import matplotlib.pyplot as plt\n",
    "import time\n",
    "from tqdm.notebook import tqdm\n",
    "from torchvision.models import efficientnet_b0, EfficientNet_B0_Weights\n",
    "from torch.optim.lr_scheduler import ReduceLROnPlateau, CosineAnnealingLR\n",
    "import copy\n",
    "from PIL import Image, ImageFilter\n",
    "import torchvision.transforms.functional as TF\n",
    "from sklearn.metrics import confusion_matrix\n",
    "import seaborn as sns\n",
    "\n",
    "# Create a smaller subset of data for quicker experiments\n",
    "TRAIN_SUBSET_SIZE = 8000  # Reduced from 10000\n",
    "VALID_SUBSET_SIZE = 8000\n",
    "TEST_SUBSET_SIZE = 8000\n"
   ]
  },
  {
   "cell_type": "code",
   "execution_count": 2,
   "metadata": {},
   "outputs": [],
   "source": [
    "\n",
    "# Set random seeds for reproducibility\n",
    "random_seed = 42\n",
    "torch.manual_seed(random_seed)\n",
    "torch.cuda.manual_seed(random_seed)\n",
    "np.random.seed(random_seed)\n",
    "random.seed(random_seed)\n",
    "torch.backends.cudnn.deterministic = True\n",
    "torch.backends.cudnn.benchmark = False"
   ]
  },
  {
   "cell_type": "code",
   "execution_count": 3,
   "metadata": {},
   "outputs": [
    {
     "name": "stdout",
     "output_type": "stream",
     "text": [
      "Test tensor created on MPS successfully: mps:0\n",
      "MPS is working properly\n",
      "Using device: mps\n"
     ]
    }
   ],
   "source": [
    "# Function for checking device\n",
    "def get_device():\n",
    "    if torch.backends.mps.is_available():\n",
    "        try:\n",
    "            # Try creating a tensor on MPS\n",
    "            test_tensor = torch.zeros(1, device=\"mps\")\n",
    "            print(f\"Test tensor created on MPS successfully: {test_tensor.device}\")\n",
    "            print(\"MPS is working properly\")\n",
    "            return torch.device(\"mps\")\n",
    "        except Exception as e:\n",
    "            print(f\"Error initializing MPS: {e}\")\n",
    "    \n",
    "    print(\"Using CPU\")\n",
    "    return torch.device(\"cpu\")\n",
    "\n",
    "device = get_device()\n",
    "print(f\"Using device: {device}\")\n"
   ]
  },
  {
   "cell_type": "code",
   "execution_count": 4,
   "metadata": {},
   "outputs": [],
   "source": [
    "# Create dataset subset function\n",
    "def create_subset_dataset(original_dataset, num_samples=10000, balanced=True):\n",
    "    \"\"\"\n",
    "    Create a subset of the original dataset with equal class distribution\n",
    "    \"\"\"\n",
    "    if balanced:\n",
    "        # Get class labels\n",
    "        targets = torch.tensor([target for _, target in original_dataset.samples])\n",
    "        classes = torch.unique(targets)\n",
    "        num_classes = len(classes)\n",
    "        samples_per_class = num_samples // num_classes\n",
    "        \n",
    "        indices = []\n",
    "        for cls in classes:\n",
    "            cls_indices = torch.where(targets == cls)[0]\n",
    "            # If we have fewer samples than requested, take all of them\n",
    "            if len(cls_indices) <= samples_per_class:\n",
    "                indices.extend(cls_indices.tolist())\n",
    "            else:\n",
    "                # Otherwise randomly sample\n",
    "                selected = cls_indices[torch.randperm(len(cls_indices))[:samples_per_class]]\n",
    "                indices.extend(selected.tolist())\n",
    "        \n",
    "        return Subset(original_dataset, indices)\n",
    "    else:\n",
    "        # Simple random subset\n",
    "        return Subset(original_dataset, torch.randperm(len(original_dataset))[:num_samples].tolist())"
   ]
  },
  {
   "cell_type": "code",
   "execution_count": 5,
   "metadata": {},
   "outputs": [],
   "source": [
    "# Define different data augmentation techniques\n",
    "def cutout_transform(img, n_holes=1, length=16):\n",
    "    \"\"\"Apply cutout augmentation to a tensor image\"\"\"\n",
    "    h = img.size(1)\n",
    "    w = img.size(2)\n",
    "    \n",
    "    mask = torch.ones((h, w))\n",
    "    \n",
    "    for n in range(n_holes):\n",
    "        y = np.random.randint(h)\n",
    "        x = np.random.randint(w)\n",
    "        \n",
    "        y1 = np.clip(y - length // 2, 0, h)\n",
    "        y2 = np.clip(y + length // 2, 0, h)\n",
    "        x1 = np.clip(x - length // 2, 0, w)\n",
    "        x2 = np.clip(x + length // 2, 0, w)\n",
    "        \n",
    "        mask[y1: y2, x1: x2] = 0.\n",
    "    \n",
    "    mask = mask.expand_as(img)\n",
    "    return img * mask\n",
    "\n",
    "class CutoutTransform:\n",
    "    \"\"\"Wrapper class for the cutout transform to use in torchvision transforms\"\"\"\n",
    "    def __init__(self, n_holes=1, length=16):\n",
    "        self.n_holes = n_holes\n",
    "        self.length = length\n",
    "    \n",
    "    def __call__(self, img):\n",
    "        return cutout_transform(img, self.n_holes, self.length)"
   ]
  },
  {
   "cell_type": "code",
   "execution_count": 6,
   "metadata": {},
   "outputs": [],
   "source": [
    "# Create dictionaries of transforms for our experiments\n",
    "standard_transforms = {\n",
    "    'baseline': transforms.Compose([\n",
    "        transforms.Resize((224, 224)),\n",
    "        transforms.ToTensor(),\n",
    "        transforms.Normalize(mean=[0.485, 0.456, 0.406], std=[0.229, 0.224, 0.225])\n",
    "    ]),\n",
    "    \n",
    "    'horizontal_flip': transforms.Compose([\n",
    "        transforms.Resize((224, 224)),\n",
    "        transforms.RandomHorizontalFlip(p=0.5),\n",
    "        transforms.ToTensor(),\n",
    "        transforms.Normalize(mean=[0.485, 0.456, 0.406], std=[0.229, 0.224, 0.225])\n",
    "    ]),\n",
    "    \n",
    "    'rotation': transforms.Compose([\n",
    "        transforms.Resize((224, 224)),\n",
    "        transforms.RandomRotation(degrees=15),\n",
    "        transforms.ToTensor(),\n",
    "        transforms.Normalize(mean=[0.485, 0.456, 0.406], std=[0.229, 0.224, 0.225])\n",
    "    ]),\n",
    "    \n",
    "    'color_jitter': transforms.Compose([\n",
    "        transforms.Resize((224, 224)),\n",
    "        transforms.ColorJitter(brightness=0.2, contrast=0.2, saturation=0.2, hue=0.1),\n",
    "        transforms.ToTensor(),\n",
    "        transforms.Normalize(mean=[0.485, 0.456, 0.406], std=[0.229, 0.224, 0.225])\n",
    "    ]),\n",
    "    \n",
    "    'combined_standard': transforms.Compose([\n",
    "        transforms.Resize((224, 224)),\n",
    "        transforms.RandomHorizontalFlip(),\n",
    "        transforms.RandomRotation(15),\n",
    "        transforms.ColorJitter(brightness=0.1, contrast=0.1, saturation=0.1, hue=0.1),\n",
    "        transforms.ToTensor(),\n",
    "        transforms.Normalize(mean=[0.485, 0.456, 0.406], std=[0.229, 0.224, 0.225])\n",
    "    ])\n",
    "}\n",
    "\n",
    "# Advanced augmentation with Cutout\n",
    "advanced_transforms = {\n",
    "    'cutout': transforms.Compose([\n",
    "        transforms.Resize((224, 224)),\n",
    "        transforms.RandomHorizontalFlip(),\n",
    "        transforms.ToTensor(),\n",
    "        transforms.Normalize(mean=[0.485, 0.456, 0.406], std=[0.229, 0.224, 0.225]),\n",
    "        CutoutTransform(n_holes=1, length=32)\n",
    "    ])\n",
    "}"
   ]
  },
  {
   "cell_type": "code",
   "execution_count": 7,
   "metadata": {},
   "outputs": [
    {
     "name": "stdout",
     "output_type": "stream",
     "text": [
      "Loading original datasets...\n",
      "Creating subsets...\n",
      "Classes: ['airplane', 'automobile', 'bird', 'cat', 'deer', 'dog', 'frog', 'horse', 'ship', 'truck']\n",
      "Training samples: 8000\n",
      "Validation samples: 8000\n",
      "Test samples: 8000\n"
     ]
    }
   ],
   "source": [
    "# Load full datasets first\n",
    "print(\"Loading original datasets...\")\n",
    "full_train_dataset = ImageFolder(root='data/train', transform=standard_transforms['baseline'])\n",
    "full_valid_dataset = ImageFolder(root='data/valid', transform=standard_transforms['baseline'])\n",
    "full_test_dataset = ImageFolder(root='data/test', transform=standard_transforms['baseline'])\n",
    "\n",
    "# Create reduced subsets\n",
    "print(\"Creating subsets...\")\n",
    "train_dataset = create_subset_dataset(full_train_dataset, num_samples=TRAIN_SUBSET_SIZE)\n",
    "valid_dataset = create_subset_dataset(full_valid_dataset, num_samples=VALID_SUBSET_SIZE)\n",
    "test_dataset = create_subset_dataset(full_test_dataset, num_samples=TEST_SUBSET_SIZE)\n",
    "\n",
    "# Save class names\n",
    "class_names = full_train_dataset.classes\n",
    "num_classes = len(class_names)\n",
    "print(f\"Classes: {class_names}\")\n",
    "print(f\"Training samples: {len(train_dataset)}\")\n",
    "print(f\"Validation samples: {len(valid_dataset)}\")\n",
    "print(f\"Test samples: {len(test_dataset)}\")"
   ]
  },
  {
   "cell_type": "code",
   "execution_count": 8,
   "metadata": {},
   "outputs": [],
   "source": [
    "def create_efficientnet_model(num_classes=10, pretrained=True, dropout_rate=0.2):\n",
    "    \"\"\"Create EfficientNet B0 model\"\"\"\n",
    "    if pretrained:\n",
    "        weights = EfficientNet_B0_Weights.DEFAULT\n",
    "        model = efficientnet_b0(weights=weights)\n",
    "    else:\n",
    "        model = efficientnet_b0(weights=None)\n",
    "    \n",
    "    # Replace classifier\n",
    "    in_features = model.classifier[1].in_features\n",
    "    model.classifier = nn.Sequential(\n",
    "        nn.Dropout(p=dropout_rate, inplace=True),\n",
    "        nn.Linear(in_features=in_features, out_features=num_classes),\n",
    "    )\n",
    "    \n",
    "    return model"
   ]
  },
  {
   "cell_type": "code",
   "execution_count": 9,
   "metadata": {},
   "outputs": [],
   "source": [
    "# Define custom CNN as a third architecture option\n",
    "class CustomCNN(nn.Module):\n",
    "    def __init__(self, num_classes=10):\n",
    "        super(CustomCNN, self).__init__()\n",
    "        # First convolutional block\n",
    "        self.conv1 = nn.Conv2d(3, 32, kernel_size=3, padding=1)\n",
    "        self.relu1 = nn.ReLU()\n",
    "        self.pool1 = nn.MaxPool2d(kernel_size=2, stride=2)\n",
    "        \n",
    "        # Second convolutional block\n",
    "        self.conv2 = nn.Conv2d(32, 64, kernel_size=3, padding=1)\n",
    "        self.relu2 = nn.ReLU()\n",
    "        self.pool2 = nn.MaxPool2d(kernel_size=2, stride=2)\n",
    "        \n",
    "        # Third convolutional block\n",
    "        self.conv3 = nn.Conv2d(64, 128, kernel_size=3, padding=1)\n",
    "        self.relu3 = nn.ReLU()\n",
    "        self.pool3 = nn.MaxPool2d(kernel_size=2, stride=2)\n",
    "        \n",
    "        # Fully connected layers\n",
    "        self.fc1 = nn.Linear(128 * 4 * 4, 512)\n",
    "        self.relu4 = nn.ReLU()\n",
    "        self.dropout = nn.Dropout(0.5)\n",
    "        self.fc2 = nn.Linear(512, num_classes)\n",
    "    \n",
    "    def forward(self, x):\n",
    "        # Convolutional blocks\n",
    "        x = self.pool1(self.relu1(self.conv1(x)))\n",
    "        x = self.pool2(self.relu2(self.conv2(x)))\n",
    "        x = self.pool3(self.relu3(self.conv3(x)))\n",
    "        \n",
    "        # Flatten\n",
    "        x = x.view(-1, 128 * 4 * 4)\n",
    "        \n",
    "        # Fully connected\n",
    "        x = self.relu4(self.fc1(x))\n",
    "        x = self.dropout(x)\n",
    "        x = self.fc2(x)\n",
    "        \n",
    "        return x"
   ]
  },
  {
   "cell_type": "code",
   "execution_count": 10,
   "metadata": {},
   "outputs": [],
   "source": [
    "# Training and validation functions\n",
    "def train_epoch(model, train_loader, criterion, optimizer, device, epoch):\n",
    "    \"\"\"Train for one epoch\"\"\"\n",
    "    model.train()\n",
    "    running_loss = 0.0\n",
    "    correct = 0\n",
    "    total = 0\n",
    "    \n",
    "    with tqdm(train_loader, desc=f\"Epoch {epoch+1}\", leave=False) as t:\n",
    "        for images, labels in t:\n",
    "            images, labels = images.to(device), labels.to(device)\n",
    "            \n",
    "            optimizer.zero_grad()\n",
    "            outputs = model(images)\n",
    "            loss = criterion(outputs, labels)\n",
    "            loss.backward()\n",
    "            optimizer.step()\n",
    "            \n",
    "            running_loss += loss.item() * images.size(0)\n",
    "            _, predicted = torch.max(outputs.data, 1)\n",
    "            total += labels.size(0)\n",
    "            correct += (predicted == labels).sum().item()\n",
    "            \n",
    "            t.set_postfix(loss=loss.item(), acc=100.*correct/total)\n",
    "    \n",
    "    epoch_loss = running_loss / len(train_loader.dataset)\n",
    "    epoch_acc = 100 * correct / total\n",
    "    \n",
    "    return epoch_loss, epoch_acc"
   ]
  },
  {
   "cell_type": "code",
   "execution_count": 11,
   "metadata": {},
   "outputs": [],
   "source": [
    "def validate(model, valid_loader, criterion, device):\n",
    "    \"\"\"Validate the model\"\"\"\n",
    "    model.eval()\n",
    "    running_loss = 0.0\n",
    "    correct = 0\n",
    "    total = 0\n",
    "    \n",
    "    with torch.no_grad():\n",
    "        for images, labels in valid_loader:\n",
    "            images, labels = images.to(device), labels.to(device)\n",
    "            \n",
    "            outputs = model(images)\n",
    "            loss = criterion(outputs, labels)\n",
    "            \n",
    "            running_loss += loss.item() * images.size(0)\n",
    "            _, predicted = torch.max(outputs.data, 1)\n",
    "            total += labels.size(0)\n",
    "            correct += (predicted == labels).sum().item()\n",
    "    \n",
    "    epoch_loss = running_loss / len(valid_loader.dataset)\n",
    "    epoch_acc = 100 * correct / total\n",
    "    \n",
    "    return epoch_loss, epoch_acc"
   ]
  },
  {
   "cell_type": "code",
   "execution_count": 12,
   "metadata": {},
   "outputs": [],
   "source": [
    "def evaluate(model, test_loader, device):\n",
    "    \"\"\"Evaluate model on test set\"\"\"\n",
    "    model.eval()\n",
    "    correct = 0\n",
    "    total = 0\n",
    "    \n",
    "    all_preds = []\n",
    "    all_labels = []\n",
    "    \n",
    "    with torch.no_grad():\n",
    "        for images, labels in test_loader:\n",
    "            images, labels = images.to(device), labels.to(device)\n",
    "            \n",
    "            outputs = model(images)\n",
    "            _, predicted = torch.max(outputs, 1)\n",
    "            \n",
    "            total += labels.size(0)\n",
    "            correct += (predicted == labels).sum().item()\n",
    "            \n",
    "            all_preds.extend(predicted.cpu().numpy())\n",
    "            all_labels.extend(labels.cpu().numpy())\n",
    "    \n",
    "    accuracy = 100 * correct / total\n",
    "    return accuracy, all_preds, all_labels"
   ]
  },
  {
   "cell_type": "code",
   "execution_count": 13,
   "metadata": {},
   "outputs": [],
   "source": [
    "# Function to conduct an experiment\n",
    "def run_experiment(experiment_name, model, train_dataset, valid_dataset, test_dataset, \n",
    "                  hyperparams, batch_size=64, num_epochs=10):\n",
    "    \"\"\"\n",
    "    Run a full training experiment with given hyperparameters\n",
    "    \"\"\"\n",
    "    print(f\"\\n{'='*20} Running experiment: {experiment_name} {'='*20}\")\n",
    "    for key, value in hyperparams.items():\n",
    "        print(f\"{key}: {value}\")\n",
    "    \n",
    "    # Create data loaders\n",
    "    train_loader = DataLoader(train_dataset, batch_size=batch_size, shuffle=True, num_workers=0, pin_memory=True)\n",
    "    valid_loader = DataLoader(valid_dataset, batch_size=batch_size, shuffle=False, num_workers=0, pin_memory=True)\n",
    "    test_loader = DataLoader(test_dataset, batch_size=batch_size, shuffle=False, num_workers=0, pin_memory=True)\n",
    "    \n",
    "    # Initialize optimizer\n",
    "    if hyperparams['optimizer'] == 'adam':\n",
    "        optimizer = optim.Adam(model.parameters(), lr=hyperparams['learning_rate'], \n",
    "                              weight_decay=hyperparams['weight_decay'])\n",
    "    elif hyperparams['optimizer'] == 'sgd':\n",
    "        momentum = hyperparams.get('momentum', 0.9)  # Default momentum to 0.9 if not specified\n",
    "        nesterov = hyperparams.get('nesterov', False)  # Default nesterov to False if not specified\n",
    "        optimizer = optim.SGD(model.parameters(), lr=hyperparams['learning_rate'], \n",
    "                             momentum=momentum, weight_decay=hyperparams['weight_decay'],\n",
    "                             nesterov=nesterov)\n",
    "\n",
    "    # Initialize criterion\n",
    "    criterion = nn.CrossEntropyLoss()\n",
    "    \n",
    "    # Initialize scheduler\n",
    "    if hyperparams['scheduler'] == 'plateau':\n",
    "        scheduler = ReduceLROnPlateau(optimizer, mode='min', factor=0.5, patience=3)\n",
    "    elif hyperparams['scheduler'] == 'cosine':\n",
    "        scheduler = CosineAnnealingLR(optimizer, T_max=num_epochs)\n",
    "    \n",
    "    # Lists to store metrics\n",
    "    train_losses = []\n",
    "    valid_losses = []\n",
    "    train_accuracies = []\n",
    "    valid_accuracies = []\n",
    "    \n",
    "    # Training loop\n",
    "    start_time = time.time()\n",
    "    best_val_acc = 0\n",
    "    best_model_wts = None\n",
    "    \n",
    "    for epoch in range(num_epochs):\n",
    "        # Train and validate\n",
    "        train_loss, train_acc = train_epoch(model, train_loader, criterion, optimizer, device, epoch)\n",
    "        valid_loss, valid_acc = validate(model, valid_loader, criterion, device)\n",
    "        \n",
    "        # Scheduler step\n",
    "        if hyperparams['scheduler'] == 'plateau':\n",
    "            scheduler.step(valid_loss)\n",
    "        else:\n",
    "            scheduler.step()\n",
    "        \n",
    "        # Store metrics\n",
    "        train_losses.append(train_loss)\n",
    "        valid_losses.append(valid_loss)\n",
    "        train_accuracies.append(train_acc)\n",
    "        valid_accuracies.append(valid_acc)\n",
    "        \n",
    "        # Print statistics\n",
    "        print(f\"Epoch {epoch+1}/{num_epochs} | LR: {optimizer.param_groups[0]['lr']:.6f}\")\n",
    "        print(f\"Train Loss: {train_loss:.4f} | Train Acc: {train_acc:.2f}%\")\n",
    "        print(f\"Valid Loss: {valid_loss:.4f} | Valid Acc: {valid_acc:.2f}%\")\n",
    "        \n",
    "        # Save best model\n",
    "        if valid_acc > best_val_acc:\n",
    "            best_val_acc = valid_acc\n",
    "            best_model_wts = copy.deepcopy(model.state_dict())\n",
    "    \n",
    "    total_time = time.time() - start_time\n",
    "    print(f\"Training completed in {total_time/60:.2f} minutes\")\n",
    "    \n",
    "    # Load best model\n",
    "    model.load_state_dict(best_model_wts)\n",
    "    \n",
    "    # Evaluate on test set\n",
    "    test_acc, all_preds, all_labels = evaluate(model, test_loader, device)\n",
    "    print(f\"Test Accuracy: {test_acc:.2f}%\")\n",
    "    \n",
    "    # Create confusion matrix\n",
    "    cm = confusion_matrix(all_labels, all_preds)\n",
    "    \n",
    "    # Return results\n",
    "    results = {\n",
    "        'name': experiment_name,\n",
    "        'hyperparams': hyperparams,\n",
    "        'train_losses': train_losses,\n",
    "        'valid_losses': valid_losses,\n",
    "        'train_accuracies': train_accuracies,\n",
    "        'valid_accuracies': valid_accuracies,\n",
    "        'test_accuracy': test_acc,\n",
    "        'confusion_matrix': cm,\n",
    "        'model_state': best_model_wts,\n",
    "        'all_preds': all_preds,\n",
    "        'all_labels': all_labels\n",
    "    }\n",
    "    \n",
    "    return results"
   ]
  },
  {
   "cell_type": "code",
   "execution_count": 14,
   "metadata": {},
   "outputs": [],
   "source": [
    "# ======= Few-shot learning implementation =======\n",
    "class PrototypicalNetworks(nn.Module):\n",
    "    def __init__(self, backbone):\n",
    "        super(PrototypicalNetworks, self).__init__()\n",
    "        self.backbone = backbone\n",
    "    \n",
    "    def forward(self, support_images, support_labels, query_images):\n",
    "        \"\"\"\n",
    "        Implements the forward pass of Prototypical Networks\n",
    "        \n",
    "        Args:\n",
    "            support_images: support set images [n_classes * n_shots, channels, height, width]\n",
    "            support_labels: support set labels [n_classes * n_shots]\n",
    "            query_images: query set images [n_queries, channels, height, width]\n",
    "        \n",
    "        Returns:\n",
    "            query_logits: classification logits for the query images\n",
    "        \"\"\"\n",
    "        # Extract features\n",
    "        support_features = self.backbone(support_images)  # [n_classes * n_shots, feature_dim]\n",
    "        query_features = self.backbone(query_images)      # [n_queries, feature_dim]\n",
    "        \n",
    "        # Compute class prototypes\n",
    "        n_classes = len(torch.unique(support_labels))\n",
    "        prototypes = torch.zeros(n_classes, support_features.shape[1], device=support_features.device)\n",
    "        \n",
    "        for c in range(n_classes):\n",
    "            # Select features of class c\n",
    "            class_mask = (support_labels == c)\n",
    "            class_features = support_features[class_mask]\n",
    "            # Average features to get the prototype\n",
    "            prototypes[c] = class_features.mean(dim=0)\n",
    "        \n",
    "        # Compute distances between query features and prototypes\n",
    "        # Expand dimensions for broadcasting\n",
    "        query_features = query_features.unsqueeze(1)  # [n_queries, 1, feature_dim]\n",
    "        prototypes = prototypes.unsqueeze(0)          # [1, n_classes, feature_dim]\n",
    "        \n",
    "        # Compute Euclidean distances\n",
    "        distances = torch.sum((query_features - prototypes)**2, dim=2)\n",
    "        \n",
    "        # Convert distances to logits (negative distances)\n",
    "        return -distances"
   ]
  },
  {
   "cell_type": "code",
   "execution_count": 15,
   "metadata": {},
   "outputs": [],
   "source": [
    "def few_shot_evaluation(backbone, test_dataset, device, n_way=5, n_shot=5, n_query=15, n_episodes=100):\n",
    "    \"\"\"\n",
    "    Evaluates the backbone on few-shot classification tasks\n",
    "    \"\"\"\n",
    "    backbone.eval()\n",
    "    \n",
    "    # Function to create few-shot tasks\n",
    "    def create_episode(dataset, n_way, n_shot, n_query):\n",
    "        # Sample n_way classes\n",
    "        classes = random.sample(range(len(dataset.classes)), n_way)\n",
    "        \n",
    "        # Initialize tensors to store images and labels\n",
    "        support_images = []\n",
    "        support_labels = []\n",
    "        query_images = []\n",
    "        query_labels = []\n",
    "        \n",
    "        # For each class, sample n_shot and n_query examples\n",
    "        for i, cls in enumerate(classes):\n",
    "            # Get indices of all examples from this class\n",
    "            class_indices = [idx for idx, (_, label) in enumerate(dataset) if label == cls]\n",
    "            # Sample support and query sets\n",
    "            support_indices = random.sample(class_indices, n_shot)\n",
    "            remaining_indices = [idx for idx in class_indices if idx not in support_indices]\n",
    "            query_indices = random.sample(remaining_indices, min(n_query, len(remaining_indices)))\n",
    "            \n",
    "            # Add to support and query sets\n",
    "            for idx in support_indices:\n",
    "                image, _ = dataset[idx]\n",
    "                support_images.append(image)\n",
    "                support_labels.append(i)  # Use an index from 0 to n_way-1 as the label\n",
    "            \n",
    "            for idx in query_indices:\n",
    "                image, _ = dataset[idx]\n",
    "                query_images.append(image)\n",
    "                query_labels.append(i)\n",
    "        \n",
    "        # Convert to tensors\n",
    "        support_images = torch.stack(support_images)\n",
    "        support_labels = torch.tensor(support_labels)\n",
    "        query_images = torch.stack(query_images)\n",
    "        query_labels = torch.tensor(query_labels)\n",
    "        \n",
    "        return support_images, support_labels, query_images, query_labels\n",
    "    \n",
    "    # Create prototypical network\n",
    "    proto_net = PrototypicalNetworks(backbone).to(device)\n",
    "    \n",
    "    # List to store accuracies\n",
    "    accuracies = []\n",
    "    \n",
    "    # Evaluate over multiple episodes\n",
    "    for episode in tqdm(range(n_episodes), desc=\"Few-shot evaluation\"):\n",
    "        # Create an episode (task)\n",
    "        support_images, support_labels, query_images, query_labels = create_episode(\n",
    "            test_dataset, n_way, n_shot, n_query\n",
    "        )\n",
    "        \n",
    "        # Move to device\n",
    "        support_images = support_images.to(device)\n",
    "        support_labels = support_labels.to(device)\n",
    "        query_images = query_images.to(device)\n",
    "        query_labels = query_labels.to(device)\n",
    "        \n",
    "        # Forward pass\n",
    "        with torch.no_grad():\n",
    "            query_logits = proto_net(support_images, support_labels, query_images)\n",
    "            _, query_preds = torch.max(query_logits, dim=1)\n",
    "            \n",
    "            # Calculate accuracy\n",
    "            accuracy = (query_preds == query_labels).float().mean().item() * 100\n",
    "            accuracies.append(accuracy)\n",
    "    \n",
    "    # Return average accuracy\n",
    "    avg_accuracy = np.mean(accuracies)\n",
    "    std_accuracy = np.std(accuracies)\n",
    "    \n",
    "    print(f\"Few-shot learning ({n_way}-way, {n_shot}-shot): {avg_accuracy:.2f}% ± {std_accuracy:.2f}%\")\n",
    "    \n",
    "    return avg_accuracy, std_accuracy"
   ]
  },
  {
   "cell_type": "code",
   "execution_count": 16,
   "metadata": {},
   "outputs": [],
   "source": [
    "# Define feature extractor for few-shot learning\n",
    "class FeatureExtractor(nn.Module):\n",
    "    def __init__(self):\n",
    "        super(FeatureExtractor, self).__init__()\n",
    "        # Use a pre-trained model but remove the final layer\n",
    "        self.model = efficientnet_b0(weights=EfficientNet_B0_Weights.DEFAULT)\n",
    "        # Remove the classifier\n",
    "        self.features = nn.Sequential(*list(self.model.children())[:-1])\n",
    "        # Add a flatten layer\n",
    "        self.flatten = nn.Flatten()\n",
    "    \n",
    "    def forward(self, x):\n",
    "        x = self.features(x)\n",
    "        x = self.flatten(x)\n",
    "        return x"
   ]
  },
  {
   "cell_type": "code",
   "execution_count": 17,
   "metadata": {},
   "outputs": [],
   "source": [
    "# Function to implement ensemble prediction\n",
    "def ensemble_prediction(models, test_loader, device, method='hard'):\n",
    "    \"\"\"\n",
    "    Implement ensemble prediction using multiple models\n",
    "    \n",
    "    Args:\n",
    "        models: List of trained models\n",
    "        test_loader: DataLoader for test data\n",
    "        device: Device to run on\n",
    "        method: 'hard' for majority voting or 'soft' for probability averaging\n",
    "    \n",
    "    Returns:\n",
    "        accuracy: Ensemble accuracy\n",
    "    \"\"\"\n",
    "    \n",
    "    if not models:\n",
    "        return 0.0, [], []\n",
    "    \n",
    "    all_predictions = []\n",
    "    all_probs = []\n",
    "    \n",
    "    # Get predictions from each model\n",
    "    for model in models:\n",
    "        model.eval()\n",
    "        predictions = []\n",
    "        probabilities = []\n",
    "        \n",
    "        with torch.no_grad():\n",
    "            for images, _ in test_loader:\n",
    "                images = images.to(device)\n",
    "                outputs = model(images)\n",
    "                probs = torch.softmax(outputs, dim=1)\n",
    "                \n",
    "                _, preds = torch.max(outputs, 1)\n",
    "                predictions.extend(preds.cpu().numpy())\n",
    "                probabilities.append(probs.cpu())\n",
    "        \n",
    "        all_predictions.append(predictions)\n",
    "        all_probs.append(torch.cat(probabilities, dim=0).numpy())\n",
    "    \n",
    "    # Get true labels\n",
    "    true_labels = []\n",
    "    for _, labels in test_loader:\n",
    "        true_labels.extend(labels.numpy())\n",
    "    \n",
    "    # Create ensemble predictions\n",
    "    if method == 'hard':\n",
    "        # Majority voting\n",
    "        ensemble_preds = []\n",
    "        for i in range(len(true_labels)):\n",
    "            votes = [all_predictions[j][i] for j in range(len(models))]\n",
    "            # Count occurrences of each class\n",
    "            vote_counts = np.bincount(votes, minlength=num_classes)\n",
    "            # Select class with most votes\n",
    "            ensemble_preds.append(np.argmax(vote_counts))\n",
    "    else:  # 'soft' voting\n",
    "        # Average probabilities\n",
    "        ensemble_probs = np.mean(all_probs, axis=0)\n",
    "        ensemble_preds = np.argmax(ensemble_probs, axis=1)\n",
    "    \n",
    "    # Calculate accuracy\n",
    "    accuracy = np.mean(np.array(ensemble_preds) == np.array(true_labels)) * 100\n",
    "    \n",
    "    return accuracy, ensemble_preds, true_labels"
   ]
  },
  {
   "cell_type": "code",
   "execution_count": 18,
   "metadata": {},
   "outputs": [],
   "source": [
    "# EXPERIMENT CONFIGURATIONS\n",
    "# 1. Architecture Comparison (removed ResNet)\n",
    "architectures = {\n",
    "    'efficientnet': create_efficientnet_model(num_classes),\n",
    "    'custom_cnn': CustomCNN(num_classes)\n",
    "}\n",
    "\n",
    "# 2. Hyperparameter Configurations for Training Process\n",
    "training_hyperparams = [\n",
    "    {'optimizer': 'adam', 'learning_rate': 0.001, 'scheduler': 'plateau', 'weight_decay': 0.0001},\n",
    "    {'optimizer': 'sgd', 'learning_rate': 0.01, 'scheduler': 'plateau', 'weight_decay': 0.0001},\n",
    "    {'optimizer': 'adam', 'learning_rate': 0.001, 'scheduler': 'cosine', 'weight_decay': 0.0001},\n",
    "    {'optimizer': 'adam', 'learning_rate': 0.0001, 'scheduler': 'plateau', 'weight_decay': 0.0001},  # Lower learning rate\n",
    "    {'optimizer': 'adam', 'learning_rate': 0.01, 'scheduler': 'plateau', 'weight_decay': 0.0001},    # Higher learning rate\n",
    "    {'optimizer': 'sgd', 'learning_rate': 0.001, 'scheduler': 'cosine', 'weight_decay': 0.0001},     # SGD with cosine scheduler\n",
    "    {'optimizer': 'sgd', 'learning_rate': 0.01, 'scheduler': 'cosine', 'weight_decay': 0.0001, 'momentum': 0.9, 'nesterov': True}  # SGD with Nesterov momentum\n",
    "]\n",
    "\n",
    "# 3. Hyperparameter Configurations for Regularization\n",
    "regularization_hyperparams = [\n",
    "    {'optimizer': 'adam', 'learning_rate': 0.001, 'scheduler': 'plateau', 'weight_decay': 0.0001, 'dropout_rate': 0.2},\n",
    "    {'optimizer': 'adam', 'learning_rate': 0.001, 'scheduler': 'plateau', 'weight_decay': 0.001, 'dropout_rate': 0.2},\n",
    "    {'optimizer': 'adam', 'learning_rate': 0.001, 'scheduler': 'plateau', 'weight_decay': 0.0, 'dropout_rate': 0.2},\n",
    "    {'optimizer': 'adam', 'learning_rate': 0.001, 'scheduler': 'plateau', 'weight_decay': 0.0001, 'dropout_rate': 0.5},\n",
    "    {'optimizer': 'adam', 'learning_rate': 0.001, 'scheduler': 'plateau', 'weight_decay': 0.0001, 'dropout_rate': 0.0}\n",
    "]\n",
    "\n",
    "# 4. Data Augmentation Experiments\n",
    "# We'll use a modified version of the train_dataset for each transform\n",
    "augmentation_datasets = {}\n",
    "\n",
    "# Apply each transform to create new datasets\n",
    "for name, transform in standard_transforms.items():\n",
    "    augmentation_datasets[name] = ImageFolder(\n",
    "        root='data/train', \n",
    "        transform=transform\n",
    "    )\n",
    "    # Create a subset of the data\n",
    "    augmentation_datasets[name] = create_subset_dataset(augmentation_datasets[name], num_samples=TRAIN_SUBSET_SIZE)\n",
    "\n",
    "# Add advanced augmentation\n",
    "for name, transform in advanced_transforms.items():\n",
    "    augmentation_datasets[name] = ImageFolder(\n",
    "        root='data/train', \n",
    "        transform=transform\n",
    "    )\n",
    "    # Create a subset of the data\n",
    "    augmentation_datasets[name] = create_subset_dataset(augmentation_datasets[name], num_samples=TRAIN_SUBSET_SIZE)\n",
    "\n",
    "# Dictionary to store results of all experiments\n",
    "all_results = {}"
   ]
  },
  {
   "cell_type": "code",
   "execution_count": null,
   "metadata": {},
   "outputs": [
    {
     "name": "stdout",
     "output_type": "stream",
     "text": [
      "\n",
      "============================== ARCHITECTURE COMPARISON ==============================\n",
      "\n",
      "Training efficientnet...\n",
      "\n",
      "==================== Running experiment: Architecture_efficientnet ====================\n",
      "optimizer: adam\n",
      "learning_rate: 0.001\n",
      "scheduler: plateau\n",
      "weight_decay: 0.0001\n"
     ]
    },
    {
     "data": {
      "application/vnd.jupyter.widget-view+json": {
       "model_id": "065b92fd37a843c79a3fcda5610aad18",
       "version_major": 2,
       "version_minor": 0
      },
      "text/plain": [
       "Epoch 1:   0%|          | 0/63 [00:00<?, ?it/s]"
      ]
     },
     "metadata": {},
     "output_type": "display_data"
    },
    {
     "name": "stdout",
     "output_type": "stream",
     "text": [
      "Epoch 1/3 | LR: 0.001000\n",
      "Train Loss: 0.9279 | Train Acc: 68.56%\n",
      "Valid Loss: 0.6850 | Valid Acc: 76.35%\n"
     ]
    },
    {
     "data": {
      "application/vnd.jupyter.widget-view+json": {
       "model_id": "0d6575e3c9b142efb7bc6aaa4e9e7325",
       "version_major": 2,
       "version_minor": 0
      },
      "text/plain": [
       "Epoch 2:   0%|          | 0/63 [00:00<?, ?it/s]"
      ]
     },
     "metadata": {},
     "output_type": "display_data"
    },
    {
     "name": "stdout",
     "output_type": "stream",
     "text": [
      "Epoch 2/3 | LR: 0.001000\n",
      "Train Loss: 0.4403 | Train Acc: 84.61%\n",
      "Valid Loss: 0.7002 | Valid Acc: 76.81%\n"
     ]
    },
    {
     "data": {
      "application/vnd.jupyter.widget-view+json": {
       "model_id": "b936ec5901ae4a71a20a676317034a93",
       "version_major": 2,
       "version_minor": 0
      },
      "text/plain": [
       "Epoch 3:   0%|          | 0/63 [00:00<?, ?it/s]"
      ]
     },
     "metadata": {},
     "output_type": "display_data"
    },
    {
     "name": "stdout",
     "output_type": "stream",
     "text": [
      "Epoch 3/3 | LR: 0.001000\n",
      "Train Loss: 0.3044 | Train Acc: 89.42%\n",
      "Valid Loss: 0.7406 | Valid Acc: 77.71%\n",
      "Training completed in 2.85 minutes\n",
      "Test Accuracy: 78.67%\n",
      "\n",
      "Training custom_cnn...\n",
      "\n",
      "==================== Running experiment: Architecture_custom_cnn ====================\n",
      "optimizer: adam\n",
      "learning_rate: 0.001\n",
      "scheduler: plateau\n",
      "weight_decay: 0.0001\n"
     ]
    },
    {
     "data": {
      "application/vnd.jupyter.widget-view+json": {
       "model_id": "e84806b1eb294883812109ed1c02dd45",
       "version_major": 2,
       "version_minor": 0
      },
      "text/plain": [
       "Epoch 1:   0%|          | 0/63 [00:00<?, ?it/s]"
      ]
     },
     "metadata": {},
     "output_type": "display_data"
    },
    {
     "name": "stdout",
     "output_type": "stream",
     "text": [
      "Epoch 1/3 | LR: 0.001000\n",
      "Train Loss: 2.1121 | Train Acc: 20.19%\n",
      "Valid Loss: 2.1781 | Valid Acc: 19.24%\n"
     ]
    },
    {
     "data": {
      "application/vnd.jupyter.widget-view+json": {
       "model_id": "3b4d90e9ca6542c1b5e0cc98f9dd2dad",
       "version_major": 2,
       "version_minor": 0
      },
      "text/plain": [
       "Epoch 2:   0%|          | 0/63 [00:00<?, ?it/s]"
      ]
     },
     "metadata": {},
     "output_type": "display_data"
    },
    {
     "name": "stdout",
     "output_type": "stream",
     "text": [
      "Epoch 2/3 | LR: 0.001000\n",
      "Train Loss: 1.9828 | Train Acc: 23.55%\n",
      "Valid Loss: 1.9764 | Valid Acc: 24.98%\n"
     ]
    },
    {
     "data": {
      "application/vnd.jupyter.widget-view+json": {
       "model_id": "cccd6468576448cca576dbee379875d2",
       "version_major": 2,
       "version_minor": 0
      },
      "text/plain": [
       "Epoch 3:   0%|          | 0/63 [00:00<?, ?it/s]"
      ]
     },
     "metadata": {},
     "output_type": "display_data"
    },
    {
     "name": "stdout",
     "output_type": "stream",
     "text": [
      "Epoch 3/3 | LR: 0.001000\n",
      "Train Loss: 1.9205 | Train Acc: 26.07%\n",
      "Valid Loss: 1.8664 | Valid Acc: 28.95%\n",
      "Training completed in 3.15 minutes\n",
      "Test Accuracy: 28.48%\n"
     ]
    }
   ],
   "source": [
    "# ==== RUN EXPERIMENTS ====\n",
    "# 1. Architecture Comparison\n",
    "print(\"\\n\" + \"=\"*30 + \" ARCHITECTURE COMPARISON \" + \"=\"*30)\n",
    "architecture_results = {}\n",
    "\n",
    "for arch_name, model in architectures.items():\n",
    "    print(f\"\\nTraining {arch_name}...\")\n",
    "    model = model.to(device)\n",
    "    \n",
    "    hyperparams = {\n",
    "        'optimizer': 'adam',\n",
    "        'learning_rate': 0.001,\n",
    "        'scheduler': 'plateau',\n",
    "        'weight_decay': 0.0001\n",
    "    }\n",
    "    \n",
    "    results = run_experiment(\n",
    "        f\"Architecture_{arch_name}\",\n",
    "        model, \n",
    "        train_dataset, \n",
    "        valid_dataset, \n",
    "        test_dataset,\n",
    "        hyperparams,\n",
    "        batch_size=128,  # Larger batch size for faster training\n",
    "        num_epochs=3  # Further reduced epochs for faster comparison\n",
    "    )\n",
    "    \n",
    "    architecture_results[arch_name] = results\n",
    "    all_results[f\"Architecture_{arch_name}\"] = results\n",
    "    \n",
    "    # Save model state\n",
    "    torch.save(model.state_dict(), f\"{arch_name}_model.pth\")"
   ]
  },
  {
   "cell_type": "code",
   "execution_count": 20,
   "metadata": {},
   "outputs": [
    {
     "name": "stdout",
     "output_type": "stream",
     "text": [
      "\n",
      "============================== TRAINING HYPERPARAMETERS COMPARISON ==============================\n",
      "Using best architecture: efficientnet\n",
      "\n",
      "==================== Running experiment: Training_Hyperparams_1 ====================\n",
      "optimizer: adam\n",
      "learning_rate: 0.001\n",
      "scheduler: plateau\n",
      "weight_decay: 0.0001\n"
     ]
    },
    {
     "data": {
      "application/vnd.jupyter.widget-view+json": {
       "model_id": "1082bcf1bb79468fb7940d94921af44e",
       "version_major": 2,
       "version_minor": 0
      },
      "text/plain": [
       "Epoch 1:   0%|          | 0/63 [00:00<?, ?it/s]"
      ]
     },
     "metadata": {},
     "output_type": "display_data"
    },
    {
     "name": "stdout",
     "output_type": "stream",
     "text": [
      "Epoch 1/3 | LR: 0.001000\n",
      "Train Loss: 0.2789 | Train Acc: 90.33%\n",
      "Valid Loss: 0.7669 | Valid Acc: 77.76%\n"
     ]
    },
    {
     "data": {
      "application/vnd.jupyter.widget-view+json": {
       "model_id": "060af80e60734263a36adb8e98433c57",
       "version_major": 2,
       "version_minor": 0
      },
      "text/plain": [
       "Epoch 2:   0%|          | 0/63 [00:00<?, ?it/s]"
      ]
     },
     "metadata": {},
     "output_type": "display_data"
    },
    {
     "name": "stdout",
     "output_type": "stream",
     "text": [
      "Epoch 2/3 | LR: 0.001000\n",
      "Train Loss: 0.1761 | Train Acc: 94.04%\n",
      "Valid Loss: 0.8718 | Valid Acc: 77.96%\n"
     ]
    },
    {
     "data": {
      "application/vnd.jupyter.widget-view+json": {
       "model_id": "87aee53c5de1468aae6098d122a26594",
       "version_major": 2,
       "version_minor": 0
      },
      "text/plain": [
       "Epoch 3:   0%|          | 0/63 [00:00<?, ?it/s]"
      ]
     },
     "metadata": {},
     "output_type": "display_data"
    },
    {
     "name": "stdout",
     "output_type": "stream",
     "text": [
      "Epoch 3/3 | LR: 0.001000\n",
      "Train Loss: 0.1405 | Train Acc: 95.34%\n",
      "Valid Loss: 1.0005 | Valid Acc: 76.54%\n",
      "Training completed in 2.89 minutes\n",
      "Test Accuracy: 77.96%\n",
      "\n",
      "==================== Running experiment: Training_Hyperparams_2 ====================\n",
      "optimizer: sgd\n",
      "learning_rate: 0.01\n",
      "scheduler: plateau\n",
      "weight_decay: 0.0001\n"
     ]
    },
    {
     "data": {
      "application/vnd.jupyter.widget-view+json": {
       "model_id": "c51af51204a046e1b73e128a57d3b1c3",
       "version_major": 2,
       "version_minor": 0
      },
      "text/plain": [
       "Epoch 1:   0%|          | 0/63 [00:00<?, ?it/s]"
      ]
     },
     "metadata": {},
     "output_type": "display_data"
    },
    {
     "name": "stdout",
     "output_type": "stream",
     "text": [
      "Epoch 1/3 | LR: 0.010000\n",
      "Train Loss: 0.0840 | Train Acc: 97.38%\n",
      "Valid Loss: 0.7036 | Valid Acc: 81.00%\n"
     ]
    },
    {
     "data": {
      "application/vnd.jupyter.widget-view+json": {
       "model_id": "94a5efd239c048bfa164d68016ce0779",
       "version_major": 2,
       "version_minor": 0
      },
      "text/plain": [
       "Epoch 2:   0%|          | 0/63 [00:00<?, ?it/s]"
      ]
     },
     "metadata": {},
     "output_type": "display_data"
    },
    {
     "name": "stdout",
     "output_type": "stream",
     "text": [
      "Epoch 2/3 | LR: 0.010000\n",
      "Train Loss: 0.0436 | Train Acc: 98.76%\n",
      "Valid Loss: 0.7085 | Valid Acc: 81.81%\n"
     ]
    },
    {
     "data": {
      "application/vnd.jupyter.widget-view+json": {
       "model_id": "78d16b3532f74dfeba1ae8d5c9180b1d",
       "version_major": 2,
       "version_minor": 0
      },
      "text/plain": [
       "Epoch 3:   0%|          | 0/63 [00:00<?, ?it/s]"
      ]
     },
     "metadata": {},
     "output_type": "display_data"
    },
    {
     "name": "stdout",
     "output_type": "stream",
     "text": [
      "Epoch 3/3 | LR: 0.010000\n",
      "Train Loss: 0.0280 | Train Acc: 99.21%\n",
      "Valid Loss: 0.7164 | Valid Acc: 82.04%\n",
      "Training completed in 2.92 minutes\n",
      "Test Accuracy: 81.65%\n",
      "\n",
      "==================== Running experiment: Training_Hyperparams_3 ====================\n",
      "optimizer: adam\n",
      "learning_rate: 0.001\n",
      "scheduler: cosine\n",
      "weight_decay: 0.0001\n"
     ]
    },
    {
     "data": {
      "application/vnd.jupyter.widget-view+json": {
       "model_id": "2689971e273244b598a2f604439271b7",
       "version_major": 2,
       "version_minor": 0
      },
      "text/plain": [
       "Epoch 1:   0%|          | 0/63 [00:00<?, ?it/s]"
      ]
     },
     "metadata": {},
     "output_type": "display_data"
    },
    {
     "name": "stdout",
     "output_type": "stream",
     "text": [
      "Epoch 1/3 | LR: 0.000750\n",
      "Train Loss: 0.1856 | Train Acc: 93.92%\n",
      "Valid Loss: 0.8499 | Valid Acc: 77.79%\n"
     ]
    },
    {
     "data": {
      "application/vnd.jupyter.widget-view+json": {
       "model_id": "ac33a058757d44cf8b05967fcc6eb79d",
       "version_major": 2,
       "version_minor": 0
      },
      "text/plain": [
       "Epoch 2:   0%|          | 0/63 [00:00<?, ?it/s]"
      ]
     },
     "metadata": {},
     "output_type": "display_data"
    },
    {
     "name": "stdout",
     "output_type": "stream",
     "text": [
      "Epoch 2/3 | LR: 0.000250\n",
      "Train Loss: 0.0929 | Train Acc: 97.03%\n",
      "Valid Loss: 0.8195 | Valid Acc: 80.06%\n"
     ]
    },
    {
     "data": {
      "application/vnd.jupyter.widget-view+json": {
       "model_id": "8957c750e5b24557af9f3dabf09f4970",
       "version_major": 2,
       "version_minor": 0
      },
      "text/plain": [
       "Epoch 3:   0%|          | 0/63 [00:00<?, ?it/s]"
      ]
     },
     "metadata": {},
     "output_type": "display_data"
    },
    {
     "name": "stdout",
     "output_type": "stream",
     "text": [
      "Epoch 3/3 | LR: 0.000000\n",
      "Train Loss: 0.0386 | Train Acc: 98.89%\n",
      "Valid Loss: 0.7621 | Valid Acc: 81.89%\n",
      "Training completed in 2.98 minutes\n",
      "Test Accuracy: 81.79%\n"
     ]
    }
   ],
   "source": [
    "# 2. Training Hyperparameters Comparison\n",
    "print(\"\\n\" + \"=\"*30 + \" TRAINING HYPERPARAMETERS COMPARISON \" + \"=\"*30)\n",
    "training_results = {}\n",
    "\n",
    "for arch_name, model_creator in architectures.items():\n",
    "    print(f\"\\nTesting architecture: {arch_name}\")\n",
    "    \n",
    "    for i, hyperparams in enumerate(training_hyperparams):\n",
    "        # Create a new model with this architecture\n",
    "        if arch_name == 'efficientnet':\n",
    "            model = create_efficientnet_model(num_classes)\n",
    "        else:\n",
    "            model = CustomCNN(num_classes)\n",
    "        \n",
    "        model = model.to(device)\n",
    "        \n",
    "        experiment_name = f\"Training_Hyperparams_{arch_name}_{i+1}\"\n",
    "        results = run_experiment(\n",
    "            experiment_name,\n",
    "            model, \n",
    "            train_dataset, \n",
    "            valid_dataset, \n",
    "            test_dataset,\n",
    "            hyperparams,\n",
    "            batch_size=128,\n",
    "            num_epochs=3\n",
    "        )\n",
    "        \n",
    "        training_results[experiment_name] = results\n",
    "        all_results[experiment_name] = results"
   ]
  },
  {
   "cell_type": "code",
   "execution_count": 21,
   "metadata": {},
   "outputs": [
    {
     "name": "stdout",
     "output_type": "stream",
     "text": [
      "\n",
      "============================== REGULARIZATION HYPERPARAMETERS COMPARISON ==============================\n",
      "\n",
      "==================== Running experiment: Regularization_Hyperparams_1 ====================\n",
      "optimizer: adam\n",
      "learning_rate: 0.001\n",
      "scheduler: plateau\n",
      "weight_decay: 0.0001\n"
     ]
    },
    {
     "data": {
      "application/vnd.jupyter.widget-view+json": {
       "model_id": "940452f3d49a426eaebd9877bf0ebe46",
       "version_major": 2,
       "version_minor": 0
      },
      "text/plain": [
       "Epoch 1:   0%|          | 0/63 [00:00<?, ?it/s]"
      ]
     },
     "metadata": {},
     "output_type": "display_data"
    },
    {
     "name": "stdout",
     "output_type": "stream",
     "text": [
      "Epoch 1/3 | LR: 0.001000\n",
      "Train Loss: 0.1531 | Train Acc: 94.95%\n",
      "Valid Loss: 1.0889 | Valid Acc: 74.97%\n"
     ]
    },
    {
     "data": {
      "application/vnd.jupyter.widget-view+json": {
       "model_id": "472b841da2544fdbbf94544b53923f6f",
       "version_major": 2,
       "version_minor": 0
      },
      "text/plain": [
       "Epoch 2:   0%|          | 0/63 [00:00<?, ?it/s]"
      ]
     },
     "metadata": {},
     "output_type": "display_data"
    },
    {
     "name": "stdout",
     "output_type": "stream",
     "text": [
      "Epoch 2/3 | LR: 0.001000\n",
      "Train Loss: 0.1227 | Train Acc: 96.25%\n",
      "Valid Loss: 0.9122 | Valid Acc: 77.61%\n"
     ]
    },
    {
     "data": {
      "application/vnd.jupyter.widget-view+json": {
       "model_id": "b6a3769cdb964f998864dac95cf4654c",
       "version_major": 2,
       "version_minor": 0
      },
      "text/plain": [
       "Epoch 3:   0%|          | 0/63 [00:00<?, ?it/s]"
      ]
     },
     "metadata": {},
     "output_type": "display_data"
    },
    {
     "name": "stdout",
     "output_type": "stream",
     "text": [
      "Epoch 3/3 | LR: 0.001000\n",
      "Train Loss: 0.1048 | Train Acc: 96.55%\n",
      "Valid Loss: 1.0311 | Valid Acc: 77.34%\n",
      "Training completed in 2.99 minutes\n",
      "Test Accuracy: 78.15%\n",
      "\n",
      "==================== Running experiment: Regularization_Hyperparams_2 ====================\n",
      "optimizer: adam\n",
      "learning_rate: 0.001\n",
      "scheduler: plateau\n",
      "weight_decay: 0.001\n"
     ]
    },
    {
     "data": {
      "application/vnd.jupyter.widget-view+json": {
       "model_id": "89cd19c0b350441f8d6858e884c5ae6e",
       "version_major": 2,
       "version_minor": 0
      },
      "text/plain": [
       "Epoch 1:   0%|          | 0/63 [00:00<?, ?it/s]"
      ]
     },
     "metadata": {},
     "output_type": "display_data"
    },
    {
     "name": "stdout",
     "output_type": "stream",
     "text": [
      "Epoch 1/3 | LR: 0.001000\n",
      "Train Loss: 0.1576 | Train Acc: 94.89%\n",
      "Valid Loss: 0.9251 | Valid Acc: 75.76%\n"
     ]
    },
    {
     "data": {
      "application/vnd.jupyter.widget-view+json": {
       "model_id": "0d38acad71c94a36a45af3a954012487",
       "version_major": 2,
       "version_minor": 0
      },
      "text/plain": [
       "Epoch 2:   0%|          | 0/63 [00:00<?, ?it/s]"
      ]
     },
     "metadata": {},
     "output_type": "display_data"
    },
    {
     "name": "stdout",
     "output_type": "stream",
     "text": [
      "Epoch 2/3 | LR: 0.001000\n",
      "Train Loss: 0.1568 | Train Acc: 94.70%\n",
      "Valid Loss: 0.8873 | Valid Acc: 76.86%\n"
     ]
    },
    {
     "data": {
      "application/vnd.jupyter.widget-view+json": {
       "model_id": "9386d252fb044e4d96efcdc7e39abdd8",
       "version_major": 2,
       "version_minor": 0
      },
      "text/plain": [
       "Epoch 3:   0%|          | 0/63 [00:00<?, ?it/s]"
      ]
     },
     "metadata": {},
     "output_type": "display_data"
    },
    {
     "name": "stdout",
     "output_type": "stream",
     "text": [
      "Epoch 3/3 | LR: 0.001000\n",
      "Train Loss: 0.1501 | Train Acc: 95.04%\n",
      "Valid Loss: 0.8594 | Valid Acc: 76.59%\n",
      "Training completed in 2.98 minutes\n",
      "Test Accuracy: 76.45%\n",
      "\n",
      "==================== Running experiment: Regularization_Hyperparams_3 ====================\n",
      "optimizer: adam\n",
      "learning_rate: 0.001\n",
      "scheduler: plateau\n",
      "weight_decay: 0.0\n"
     ]
    },
    {
     "data": {
      "application/vnd.jupyter.widget-view+json": {
       "model_id": "1a6a2553443343579f1ba3904a462bdd",
       "version_major": 2,
       "version_minor": 0
      },
      "text/plain": [
       "Epoch 1:   0%|          | 0/63 [00:00<?, ?it/s]"
      ]
     },
     "metadata": {},
     "output_type": "display_data"
    },
    {
     "name": "stdout",
     "output_type": "stream",
     "text": [
      "Epoch 1/3 | LR: 0.001000\n",
      "Train Loss: 0.1663 | Train Acc: 94.50%\n",
      "Valid Loss: 1.0589 | Valid Acc: 76.99%\n"
     ]
    },
    {
     "data": {
      "application/vnd.jupyter.widget-view+json": {
       "model_id": "bae9c72c8e1a45e48c41010c4c8499ab",
       "version_major": 2,
       "version_minor": 0
      },
      "text/plain": [
       "Epoch 2:   0%|          | 0/63 [00:00<?, ?it/s]"
      ]
     },
     "metadata": {},
     "output_type": "display_data"
    },
    {
     "name": "stdout",
     "output_type": "stream",
     "text": [
      "Epoch 2/3 | LR: 0.001000\n",
      "Train Loss: 0.1346 | Train Acc: 95.55%\n",
      "Valid Loss: 0.9799 | Valid Acc: 76.03%\n"
     ]
    },
    {
     "data": {
      "application/vnd.jupyter.widget-view+json": {
       "model_id": "cd4391c017cc4e5fae9d2b4b04581e1f",
       "version_major": 2,
       "version_minor": 0
      },
      "text/plain": [
       "Epoch 3:   0%|          | 0/63 [00:00<?, ?it/s]"
      ]
     },
     "metadata": {},
     "output_type": "display_data"
    },
    {
     "name": "stdout",
     "output_type": "stream",
     "text": [
      "Epoch 3/3 | LR: 0.001000\n",
      "Train Loss: 0.0913 | Train Acc: 96.85%\n",
      "Valid Loss: 1.1091 | Valid Acc: 76.74%\n",
      "Training completed in 2.97 minutes\n",
      "Test Accuracy: 76.17%\n"
     ]
    }
   ],
   "source": [
    "# 3. Regularization Hyperparameters Comparison\n",
    "print(\"\\n\" + \"=\"*30 + \" REGULARIZATION HYPERPARAMETERS COMPARISON \" + \"=\"*30)\n",
    "regularization_results = {}\n",
    "\n",
    "for arch_name, model_creator in architectures.items():\n",
    "    print(f\"\\nTesting architecture: {arch_name}\")\n",
    "    \n",
    "    for i, hyperparams in enumerate(regularization_hyperparams):\n",
    "        # Create a new model with this architecture\n",
    "        if arch_name == 'efficientnet':\n",
    "            model = create_efficientnet_model(num_classes, dropout_rate=hyperparams.get('dropout_rate', 0.2))\n",
    "        else:\n",
    "            model = CustomCNN(num_classes)  # Note: You'd need to modify CustomCNN to use the dropout rate parameter\n",
    "        \n",
    "        model = model.to(device)\n",
    "        \n",
    "        experiment_name = f\"Regularization_Hyperparams_{arch_name}_{i+1}\"\n",
    "        results = run_experiment(\n",
    "            experiment_name,\n",
    "            model, \n",
    "            train_dataset, \n",
    "            valid_dataset, \n",
    "            test_dataset,\n",
    "            hyperparams,\n",
    "            batch_size=128,\n",
    "            num_epochs=3\n",
    "        )\n",
    "        \n",
    "        regularization_results[experiment_name] = results\n",
    "        all_results[experiment_name] = results"
   ]
  },
  {
   "cell_type": "code",
   "execution_count": 22,
   "metadata": {},
   "outputs": [
    {
     "name": "stdout",
     "output_type": "stream",
     "text": [
      "\n",
      "============================== DATA AUGMENTATION COMPARISON ==============================\n",
      "\n",
      "Testing standard augmentation: baseline\n",
      "\n",
      "==================== Running experiment: Augmentation_baseline ====================\n",
      "optimizer: adam\n",
      "learning_rate: 0.001\n",
      "scheduler: plateau\n",
      "weight_decay: 0.0001\n"
     ]
    },
    {
     "data": {
      "application/vnd.jupyter.widget-view+json": {
       "model_id": "e9a3b45a9dfe4c26bb04e7d71e46aafb",
       "version_major": 2,
       "version_minor": 0
      },
      "text/plain": [
       "Epoch 1:   0%|          | 0/63 [00:00<?, ?it/s]"
      ]
     },
     "metadata": {},
     "output_type": "display_data"
    },
    {
     "name": "stdout",
     "output_type": "stream",
     "text": [
      "Epoch 1/3 | LR: 0.001000\n",
      "Train Loss: 0.6552 | Train Acc: 78.70%\n",
      "Valid Loss: 0.5431 | Valid Acc: 80.50%\n"
     ]
    },
    {
     "data": {
      "application/vnd.jupyter.widget-view+json": {
       "model_id": "114460fcd1ff4adeab89fb5c87faddbb",
       "version_major": 2,
       "version_minor": 0
      },
      "text/plain": [
       "Epoch 2:   0%|          | 0/63 [00:00<?, ?it/s]"
      ]
     },
     "metadata": {},
     "output_type": "display_data"
    },
    {
     "name": "stdout",
     "output_type": "stream",
     "text": [
      "Epoch 2/3 | LR: 0.001000\n",
      "Train Loss: 0.3117 | Train Acc: 89.36%\n",
      "Valid Loss: 0.6553 | Valid Acc: 79.49%\n"
     ]
    },
    {
     "data": {
      "application/vnd.jupyter.widget-view+json": {
       "model_id": "7f480f3d1d7d4441a6461f43527c2a49",
       "version_major": 2,
       "version_minor": 0
      },
      "text/plain": [
       "Epoch 3:   0%|          | 0/63 [00:00<?, ?it/s]"
      ]
     },
     "metadata": {},
     "output_type": "display_data"
    },
    {
     "name": "stdout",
     "output_type": "stream",
     "text": [
      "Epoch 3/3 | LR: 0.001000\n",
      "Train Loss: 0.2018 | Train Acc: 93.17%\n",
      "Valid Loss: 0.8108 | Valid Acc: 77.61%\n",
      "Training completed in 3.02 minutes\n",
      "Test Accuracy: 79.96%\n",
      "\n",
      "Testing standard augmentation: horizontal_flip\n",
      "\n",
      "==================== Running experiment: Augmentation_horizontal_flip ====================\n",
      "optimizer: adam\n",
      "learning_rate: 0.001\n",
      "scheduler: plateau\n",
      "weight_decay: 0.0001\n"
     ]
    },
    {
     "data": {
      "application/vnd.jupyter.widget-view+json": {
       "model_id": "72236f974fcf4805ad5f75d53564ed95",
       "version_major": 2,
       "version_minor": 0
      },
      "text/plain": [
       "Epoch 1:   0%|          | 0/63 [00:00<?, ?it/s]"
      ]
     },
     "metadata": {},
     "output_type": "display_data"
    },
    {
     "name": "stdout",
     "output_type": "stream",
     "text": [
      "Epoch 1/3 | LR: 0.001000\n",
      "Train Loss: 0.6042 | Train Acc: 78.84%\n",
      "Valid Loss: 0.5905 | Valid Acc: 79.25%\n"
     ]
    },
    {
     "data": {
      "application/vnd.jupyter.widget-view+json": {
       "model_id": "59758cf07ab24a689095cf983154f115",
       "version_major": 2,
       "version_minor": 0
      },
      "text/plain": [
       "Epoch 2:   0%|          | 0/63 [00:00<?, ?it/s]"
      ]
     },
     "metadata": {},
     "output_type": "display_data"
    },
    {
     "name": "stdout",
     "output_type": "stream",
     "text": [
      "Epoch 2/3 | LR: 0.001000\n",
      "Train Loss: 0.3724 | Train Acc: 86.59%\n",
      "Valid Loss: 0.6182 | Valid Acc: 79.61%\n"
     ]
    },
    {
     "data": {
      "application/vnd.jupyter.widget-view+json": {
       "model_id": "e26658fad84c4c0b9c67519865e07925",
       "version_major": 2,
       "version_minor": 0
      },
      "text/plain": [
       "Epoch 3:   0%|          | 0/63 [00:00<?, ?it/s]"
      ]
     },
     "metadata": {},
     "output_type": "display_data"
    },
    {
     "name": "stdout",
     "output_type": "stream",
     "text": [
      "Epoch 3/3 | LR: 0.001000\n",
      "Train Loss: 0.2613 | Train Acc: 90.70%\n",
      "Valid Loss: 0.6715 | Valid Acc: 79.09%\n",
      "Training completed in 3.05 minutes\n",
      "Test Accuracy: 79.60%\n",
      "\n",
      "Testing standard augmentation: rotation\n",
      "\n",
      "==================== Running experiment: Augmentation_rotation ====================\n",
      "optimizer: adam\n",
      "learning_rate: 0.001\n",
      "scheduler: plateau\n",
      "weight_decay: 0.0001\n"
     ]
    },
    {
     "data": {
      "application/vnd.jupyter.widget-view+json": {
       "model_id": "4399f8216aad41359b2eae5d2a4a4689",
       "version_major": 2,
       "version_minor": 0
      },
      "text/plain": [
       "Epoch 1:   0%|          | 0/63 [00:00<?, ?it/s]"
      ]
     },
     "metadata": {},
     "output_type": "display_data"
    },
    {
     "name": "stdout",
     "output_type": "stream",
     "text": [
      "Epoch 1/3 | LR: 0.001000\n",
      "Train Loss: 0.6220 | Train Acc: 78.31%\n",
      "Valid Loss: 0.5323 | Valid Acc: 81.51%\n"
     ]
    },
    {
     "data": {
      "application/vnd.jupyter.widget-view+json": {
       "model_id": "3c0b132b374845909b4b6baf89572478",
       "version_major": 2,
       "version_minor": 0
      },
      "text/plain": [
       "Epoch 2:   0%|          | 0/63 [00:00<?, ?it/s]"
      ]
     },
     "metadata": {},
     "output_type": "display_data"
    },
    {
     "name": "stdout",
     "output_type": "stream",
     "text": [
      "Epoch 2/3 | LR: 0.001000\n",
      "Train Loss: 0.3810 | Train Acc: 86.54%\n",
      "Valid Loss: 0.6145 | Valid Acc: 80.00%\n"
     ]
    },
    {
     "data": {
      "application/vnd.jupyter.widget-view+json": {
       "model_id": "7268446790894e0db42fa3046e2c2475",
       "version_major": 2,
       "version_minor": 0
      },
      "text/plain": [
       "Epoch 3:   0%|          | 0/63 [00:00<?, ?it/s]"
      ]
     },
     "metadata": {},
     "output_type": "display_data"
    },
    {
     "name": "stdout",
     "output_type": "stream",
     "text": [
      "Epoch 3/3 | LR: 0.001000\n",
      "Train Loss: 0.3094 | Train Acc: 88.91%\n",
      "Valid Loss: 0.6353 | Valid Acc: 79.58%\n",
      "Training completed in 3.34 minutes\n",
      "Test Accuracy: 81.10%\n",
      "\n",
      "Testing standard augmentation: color_jitter\n",
      "\n",
      "==================== Running experiment: Augmentation_color_jitter ====================\n",
      "optimizer: adam\n",
      "learning_rate: 0.001\n",
      "scheduler: plateau\n",
      "weight_decay: 0.0001\n"
     ]
    },
    {
     "data": {
      "application/vnd.jupyter.widget-view+json": {
       "model_id": "3caf35483a114c7bbd0046569dc91163",
       "version_major": 2,
       "version_minor": 0
      },
      "text/plain": [
       "Epoch 1:   0%|          | 0/63 [00:00<?, ?it/s]"
      ]
     },
     "metadata": {},
     "output_type": "display_data"
    },
    {
     "name": "stdout",
     "output_type": "stream",
     "text": [
      "Epoch 1/3 | LR: 0.001000\n",
      "Train Loss: 0.5990 | Train Acc: 78.89%\n",
      "Valid Loss: 0.5583 | Valid Acc: 80.11%\n"
     ]
    },
    {
     "data": {
      "application/vnd.jupyter.widget-view+json": {
       "model_id": "9ba2a0c7328e4c7d861eab1c68e2a969",
       "version_major": 2,
       "version_minor": 0
      },
      "text/plain": [
       "Epoch 2:   0%|          | 0/63 [00:00<?, ?it/s]"
      ]
     },
     "metadata": {},
     "output_type": "display_data"
    },
    {
     "name": "stdout",
     "output_type": "stream",
     "text": [
      "Epoch 2/3 | LR: 0.001000\n",
      "Train Loss: 0.3578 | Train Acc: 87.67%\n",
      "Valid Loss: 0.6170 | Valid Acc: 79.45%\n"
     ]
    },
    {
     "data": {
      "application/vnd.jupyter.widget-view+json": {
       "model_id": "326bd84be64f4712b876d069f20a0c1d",
       "version_major": 2,
       "version_minor": 0
      },
      "text/plain": [
       "Epoch 3:   0%|          | 0/63 [00:00<?, ?it/s]"
      ]
     },
     "metadata": {},
     "output_type": "display_data"
    },
    {
     "name": "stdout",
     "output_type": "stream",
     "text": [
      "Epoch 3/3 | LR: 0.001000\n",
      "Train Loss: 0.2520 | Train Acc: 91.08%\n",
      "Valid Loss: 0.6793 | Valid Acc: 78.71%\n",
      "Training completed in 3.69 minutes\n",
      "Test Accuracy: 80.74%\n"
     ]
    }
   ],
   "source": [
    "# 4. Data Augmentation Experiments\n",
    "print(\"\\n\" + \"=\"*30 + \" DATA AUGMENTATION COMPARISON \" + \"=\"*30)\n",
    "augmentation_results = {}\n",
    "\n",
    "for arch_name, model_creator in architectures.items():\n",
    "    print(f\"\\nTesting architecture: {arch_name}\")\n",
    "    \n",
    "    # Standard augmentations\n",
    "    for aug_name in ['baseline', 'horizontal_flip', 'rotation', 'color_jitter']:\n",
    "        print(f\"\\nTesting standard augmentation: {aug_name}\")\n",
    "        \n",
    "        # Create a new model with this architecture\n",
    "        if arch_name == 'efficientnet':\n",
    "            model = create_efficientnet_model(num_classes)\n",
    "        else:\n",
    "            model = CustomCNN(num_classes)\n",
    "            \n",
    "        model = model.to(device)\n",
    "        \n",
    "        experiment_name = f\"Augmentation_{arch_name}_{aug_name}\"\n",
    "        results = run_experiment(\n",
    "            experiment_name,\n",
    "            model,\n",
    "            augmentation_datasets[aug_name],\n",
    "            valid_dataset,\n",
    "            test_dataset,\n",
    "            hyperparams,\n",
    "            batch_size=128,\n",
    "            num_epochs=3\n",
    "        )\n",
    "        \n",
    "        augmentation_results[experiment_name] = results\n",
    "        all_results[experiment_name] = results\n",
    "    \n",
    "    # Advanced augmentation (cutout)\n",
    "    print(f\"\\nTesting advanced augmentation with {arch_name}: cutout\")\n",
    "    \n",
    "    # Create a new model with this architecture\n",
    "    if arch_name == 'efficientnet':\n",
    "        model = create_efficientnet_model(num_classes)\n",
    "    else:\n",
    "        model = CustomCNN(num_classes)\n",
    "        \n",
    "    model = model.to(device)\n",
    "    \n",
    "    experiment_name = f\"Augmentation_{arch_name}_cutout\"\n",
    "    results = run_experiment(\n",
    "        experiment_name,\n",
    "        model,\n",
    "        augmentation_datasets['cutout'],\n",
    "        valid_dataset,\n",
    "        test_dataset,\n",
    "        hyperparams,\n",
    "        batch_size=128,\n",
    "        num_epochs=3\n",
    "    )\n",
    "    \n",
    "    augmentation_results[experiment_name] = results\n",
    "    all_results[experiment_name] = results"
   ]
  },
  {
   "cell_type": "code",
   "execution_count": null,
   "metadata": {},
   "outputs": [
    {
     "name": "stdout",
     "output_type": "stream",
     "text": [
      "\n",
      "============================== FEW-SHOT LEARNING ==============================\n",
      "Evaluating few-shot learning capabilities...\n"
     ]
    },
    {
     "data": {
      "application/vnd.jupyter.widget-view+json": {
       "model_id": "ad05b542c37c4e0585b2d9504ef7c101",
       "version_major": 2,
       "version_minor": 0
      },
      "text/plain": [
       "Few-shot evaluation:   0%|          | 0/20 [00:00<?, ?it/s]"
      ]
     },
     "metadata": {},
     "output_type": "display_data"
    },
    {
     "name": "stdout",
     "output_type": "stream",
     "text": [
      "Few-shot learning (5-way, 5-shot): 73.53% ± 8.09%\n"
     ]
    }
   ],
   "source": [
    "# 5. Few-shot Learning Experiment\n",
    "print(\"\\n\" + \"=\"*30 + \" FEW-SHOT LEARNING \" + \"=\"*30)\n",
    "\n",
    "# Create feature extractors for few-shot learning\n",
    "feature_extractor = FeatureExtractor().to(device)\n",
    "\n",
    "# Create custom CNN feature extractor\n",
    "class CustomCNNFeatureExtractor(nn.Module):\n",
    "    def __init__(self):\n",
    "        super(CustomCNNFeatureExtractor, self).__init__()\n",
    "        # Create the base components of CustomCNN\n",
    "        self.conv1 = nn.Conv2d(3, 32, kernel_size=3, padding=1)\n",
    "        self.relu1 = nn.ReLU()\n",
    "        self.pool1 = nn.MaxPool2d(kernel_size=2, stride=2)\n",
    "        \n",
    "        self.conv2 = nn.Conv2d(32, 64, kernel_size=3, padding=1)\n",
    "        self.relu2 = nn.ReLU()\n",
    "        self.pool2 = nn.MaxPool2d(kernel_size=2, stride=2)\n",
    "        \n",
    "        self.conv3 = nn.Conv2d(64, 128, kernel_size=3, padding=1)\n",
    "        self.relu3 = nn.ReLU()\n",
    "        self.pool3 = nn.MaxPool2d(kernel_size=2, stride=2)\n",
    "        \n",
    "        self.flatten = nn.Flatten()\n",
    "        self.fc1 = nn.Linear(128 * 4 * 4, 512)\n",
    "        self.relu4 = nn.ReLU()\n",
    "    \n",
    "    def forward(self, x):\n",
    "        # Apply convolution blocks\n",
    "        x = self.pool1(self.relu1(self.conv1(x)))\n",
    "        x = self.pool2(self.relu2(self.conv2(x)))\n",
    "        x = self.pool3(self.relu3(self.conv3(x)))\n",
    "        \n",
    "        # Flatten and apply FC layer\n",
    "        x = self.flatten(x)\n",
    "        x = self.relu4(self.fc1(x))\n",
    "        \n",
    "        return x\n",
    "\n",
    "custom_feature_extractor = CustomCNNFeatureExtractor().to(device)\n",
    "\n",
    "# Modify few_shot_evaluation to handle Subset objects\n",
    "def few_shot_evaluation(backbone, dataset, device, n_way=5, n_shot=5, n_query=15, n_episodes=100):\n",
    "    \"\"\"\n",
    "    Evaluates the backbone on few-shot classification tasks\n",
    "    \"\"\"\n",
    "    backbone.eval()\n",
    "    \n",
    "    # Get the original dataset if this is a subset\n",
    "    original_dataset = dataset\n",
    "    if isinstance(dataset, Subset):\n",
    "        # Get the original dataset\n",
    "        original_dataset = dataset.dataset\n",
    "        # Get the class mapping from the original dataset\n",
    "        class_indices = {}\n",
    "        for idx in dataset.indices:\n",
    "            _, label = original_dataset[idx]\n",
    "            if label not in class_indices:\n",
    "                class_indices[label] = []\n",
    "            class_indices[label].append(idx)\n",
    "    else:\n",
    "        # If not a subset, create the mapping directly\n",
    "        class_indices = {}\n",
    "        for idx, (_, label) in enumerate(dataset):\n",
    "            if label not in class_indices:\n",
    "                class_indices[label] = []\n",
    "            class_indices[label].append(idx)\n",
    "    \n",
    "    # Create few-shot tasks function\n",
    "    def create_episode(n_way, n_shot, n_query):\n",
    "        # Sample n_way classes\n",
    "        available_classes = list(class_indices.keys())\n",
    "        if len(available_classes) < n_way:\n",
    "            print(f\"Warning: Only {len(available_classes)} classes available, but {n_way} requested.\")\n",
    "            n_way = len(available_classes)\n",
    "        \n",
    "        classes = random.sample(available_classes, n_way)\n",
    "        \n",
    "        # Initialize tensors to store images and labels\n",
    "        support_images = []\n",
    "        support_labels = []\n",
    "        query_images = []\n",
    "        query_labels = []\n",
    "        \n",
    "        # For each class, sample n_shot and n_query examples\n",
    "        for i, cls in enumerate(classes):\n",
    "            # Get indices of all examples from this class\n",
    "            cls_indices = class_indices[cls]\n",
    "            \n",
    "            # Sample support and query sets\n",
    "            if len(cls_indices) <= n_shot:\n",
    "                support_indices = cls_indices\n",
    "                query_indices = []\n",
    "            else:\n",
    "                # Randomly sample without replacement\n",
    "                random.shuffle(cls_indices)\n",
    "                support_indices = cls_indices[:n_shot]\n",
    "                query_indices = cls_indices[n_shot:n_shot+min(n_query, len(cls_indices)-n_shot)]\n",
    "            \n",
    "            # Add to support and query sets\n",
    "            for idx in support_indices:\n",
    "                image, _ = original_dataset[idx]\n",
    "                support_images.append(image)\n",
    "                support_labels.append(i)  # Use an index from 0 to n_way-1 as the label\n",
    "            \n",
    "            for idx in query_indices:\n",
    "                image, _ = original_dataset[idx]\n",
    "                query_images.append(image)\n",
    "                query_labels.append(i)\n",
    "        \n",
    "        # Convert to tensors\n",
    "        support_images = torch.stack(support_images)\n",
    "        support_labels = torch.tensor(support_labels)\n",
    "        query_images = torch.stack(query_images)\n",
    "        query_labels = torch.tensor(query_labels)\n",
    "        \n",
    "        return support_images, support_labels, query_images, query_labels\n",
    "    \n",
    "    # Create prototypical network\n",
    "    proto_net = PrototypicalNetworks(backbone).to(device)\n",
    "    \n",
    "    # List to store accuracies\n",
    "    accuracies = []\n",
    "    \n",
    "    # Evaluate over multiple episodes\n",
    "    for episode in tqdm(range(n_episodes), desc=\"Few-shot evaluation\"):\n",
    "        # Create an episode (task)\n",
    "        support_images, support_labels, query_images, query_labels = create_episode(\n",
    "            n_way, n_shot, n_query\n",
    "        )\n",
    "        \n",
    "        # Skip episodes with too few query examples\n",
    "        if len(query_images) < 5:\n",
    "            continue\n",
    "        \n",
    "        # Move to device\n",
    "        support_images = support_images.to(device)\n",
    "        support_labels = support_labels.to(device)\n",
    "        query_images = query_images.to(device)\n",
    "        query_labels = query_labels.to(device)\n",
    "        \n",
    "        # Forward pass\n",
    "        with torch.no_grad():\n",
    "            query_logits = proto_net(support_images, support_labels, query_images)\n",
    "            _, query_preds = torch.max(query_logits, dim=1)\n",
    "            \n",
    "            # Calculate accuracy\n",
    "            accuracy = (query_preds == query_labels).float().mean().item() * 100\n",
    "            accuracies.append(accuracy)\n",
    "    \n",
    "    # Return average accuracy\n",
    "    if accuracies:\n",
    "        avg_accuracy = np.mean(accuracies)\n",
    "        std_accuracy = np.std(accuracies)\n",
    "    else:\n",
    "        avg_accuracy = 0\n",
    "        std_accuracy = 0\n",
    "    \n",
    "    print(f\"Few-shot learning ({n_way}-way, {n_shot}-shot): {avg_accuracy:.2f}% ± {std_accuracy:.2f}%\")\n",
    "    \n",
    "    return avg_accuracy, std_accuracy\n",
    "\n",
    "print(\"Evaluating few-shot learning capabilities...\")\n",
    "\n",
    "# Evaluate EfficientNet feature extractor\n",
    "print(\"\\nTesting EfficientNet feature extractor:\")\n",
    "efficientnet_acc, efficientnet_std = few_shot_evaluation(\n",
    "    feature_extractor, \n",
    "    test_dataset, \n",
    "    device, \n",
    "    n_way=5,    # 5-way classification \n",
    "    n_shot=5,   # 5-shot learning\n",
    "    n_query=15, # 15 query samples per class\n",
    "    n_episodes=20  # 20 episodes for quick evaluation\n",
    ")\n",
    "\n",
    "# Evaluate Custom CNN feature extractor\n",
    "print(\"\\nTesting Custom CNN feature extractor:\")\n",
    "custom_acc, custom_std = few_shot_evaluation(\n",
    "    custom_feature_extractor,\n",
    "    test_dataset,\n",
    "    device,\n",
    "    n_way=5,\n",
    "    n_shot=5,\n",
    "    n_query=15,\n",
    "    n_episodes=20\n",
    ")\n",
    "\n",
    "# Store results for both architectures\n",
    "few_shot_results = {\n",
    "    'efficientnet': {\n",
    "        'name': 'Few-shot Learning (EfficientNet, 5-way, 5-shot)',\n",
    "        'accuracy': efficientnet_acc,\n",
    "        'std': efficientnet_std\n",
    "    },\n",
    "    'custom_cnn': {\n",
    "        'name': 'Few-shot Learning (Custom CNN, 5-way, 5-shot)', \n",
    "        'accuracy': custom_acc,\n",
    "        'std': custom_std\n",
    "    }\n",
    "}\n",
    "\n",
    "# Add results to all_results\n",
    "all_results['few_shot_efficientnet'] = few_shot_results['efficientnet']\n",
    "all_results['few_shot_custom_cnn'] = few_shot_results['custom_cnn']\n",
    "\n",
    "# Print comparison\n",
    "print(\"\\nFew-shot Learning Architecture Comparison:\")\n",
    "for arch_name, result in few_shot_results.items():\n",
    "    print(f\"{arch_name}: {result['accuracy']:.2f}% ± {result['std']:.2f}%\")"
   ]
  },
  {
   "cell_type": "code",
   "execution_count": 25,
   "metadata": {},
   "outputs": [
    {
     "name": "stdout",
     "output_type": "stream",
     "text": [
      "\n",
      "============================== REDUCED TRAINING SET EXPERIMENT ==============================\n",
      "\n",
      "Testing with reduced training set size: 4000 samples\n",
      "\n",
      "==================== Running experiment: Reduced_Train_Size_4000 ====================\n",
      "optimizer: adam\n",
      "learning_rate: 0.001\n",
      "scheduler: plateau\n",
      "weight_decay: 0.0001\n"
     ]
    },
    {
     "data": {
      "application/vnd.jupyter.widget-view+json": {
       "model_id": "c7a7b719fbe84fd384748e24c7a68c0f",
       "version_major": 2,
       "version_minor": 0
      },
      "text/plain": [
       "Epoch 1:   0%|          | 0/32 [00:00<?, ?it/s]"
      ]
     },
     "metadata": {},
     "output_type": "display_data"
    },
    {
     "name": "stdout",
     "output_type": "stream",
     "text": [
      "Epoch 1/3 | LR: 0.001000\n",
      "Train Loss: 0.5410 | Train Acc: 81.50%\n",
      "Valid Loss: 0.5539 | Valid Acc: 79.96%\n"
     ]
    },
    {
     "data": {
      "application/vnd.jupyter.widget-view+json": {
       "model_id": "3dcb4dbfed8b4cbe8f2ecd49b257430a",
       "version_major": 2,
       "version_minor": 0
      },
      "text/plain": [
       "Epoch 2:   0%|          | 0/32 [00:00<?, ?it/s]"
      ]
     },
     "metadata": {},
     "output_type": "display_data"
    },
    {
     "name": "stdout",
     "output_type": "stream",
     "text": [
      "Epoch 2/3 | LR: 0.001000\n",
      "Train Loss: 0.2097 | Train Acc: 93.08%\n",
      "Valid Loss: 0.5776 | Valid Acc: 80.99%\n"
     ]
    },
    {
     "data": {
      "application/vnd.jupyter.widget-view+json": {
       "model_id": "d02397e56904449e900d15a804807b26",
       "version_major": 2,
       "version_minor": 0
      },
      "text/plain": [
       "Epoch 3:   0%|          | 0/32 [00:00<?, ?it/s]"
      ]
     },
     "metadata": {},
     "output_type": "display_data"
    },
    {
     "name": "stdout",
     "output_type": "stream",
     "text": [
      "Epoch 3/3 | LR: 0.001000\n",
      "Train Loss: 0.1162 | Train Acc: 96.05%\n",
      "Valid Loss: 0.6875 | Valid Acc: 80.09%\n",
      "Training completed in 2.02 minutes\n",
      "Test Accuracy: 81.66%\n",
      "\n",
      "Testing with reduced training set size: 2000 samples\n",
      "\n",
      "==================== Running experiment: Reduced_Train_Size_2000 ====================\n",
      "optimizer: adam\n",
      "learning_rate: 0.001\n",
      "scheduler: plateau\n",
      "weight_decay: 0.0001\n"
     ]
    },
    {
     "data": {
      "application/vnd.jupyter.widget-view+json": {
       "model_id": "6bf24063940742bb8b25cc024671cf73",
       "version_major": 2,
       "version_minor": 0
      },
      "text/plain": [
       "Epoch 1:   0%|          | 0/16 [00:00<?, ?it/s]"
      ]
     },
     "metadata": {},
     "output_type": "display_data"
    },
    {
     "name": "stdout",
     "output_type": "stream",
     "text": [
      "Epoch 1/3 | LR: 0.001000\n",
      "Train Loss: 0.5861 | Train Acc: 79.95%\n",
      "Valid Loss: 0.6542 | Valid Acc: 78.28%\n"
     ]
    },
    {
     "data": {
      "application/vnd.jupyter.widget-view+json": {
       "model_id": "62e945f7ce1f40c5906a9442437b243f",
       "version_major": 2,
       "version_minor": 0
      },
      "text/plain": [
       "Epoch 2:   0%|          | 0/16 [00:00<?, ?it/s]"
      ]
     },
     "metadata": {},
     "output_type": "display_data"
    },
    {
     "name": "stdout",
     "output_type": "stream",
     "text": [
      "Epoch 2/3 | LR: 0.001000\n",
      "Train Loss: 0.2467 | Train Acc: 92.55%\n",
      "Valid Loss: 0.5533 | Valid Acc: 81.06%\n"
     ]
    },
    {
     "data": {
      "application/vnd.jupyter.widget-view+json": {
       "model_id": "c0aeb3b48f6840ba8cbe332af0ee24fc",
       "version_major": 2,
       "version_minor": 0
      },
      "text/plain": [
       "Epoch 3:   0%|          | 0/16 [00:00<?, ?it/s]"
      ]
     },
     "metadata": {},
     "output_type": "display_data"
    },
    {
     "name": "stdout",
     "output_type": "stream",
     "text": [
      "Epoch 3/3 | LR: 0.001000\n",
      "Train Loss: 0.0887 | Train Acc: 97.60%\n",
      "Valid Loss: 0.5822 | Valid Acc: 81.41%\n",
      "Training completed in 1.47 minutes\n",
      "Test Accuracy: 81.54%\n"
     ]
    }
   ],
   "source": [
    "# 6. Reduced Training Set Size Experiment\n",
    "print(\"\\n\" + \"=\"*30 + \" REDUCED TRAINING SET EXPERIMENT \" + \"=\"*30)\n",
    "\n",
    "# Create even smaller training subsets\n",
    "smaller_train_sizes = [TRAIN_SUBSET_SIZE // 2, TRAIN_SUBSET_SIZE // 4]\n",
    "reduction_results = {}\n",
    "\n",
    "for arch_name, model_creator in architectures.items():\n",
    "    print(f\"\\nTesting architecture: {arch_name}\")\n",
    "    \n",
    "    for size in smaller_train_sizes:\n",
    "        print(f\"\\nTesting with reduced training set size: {size} samples\")\n",
    "        \n",
    "        # Create reduced training dataset\n",
    "        reduced_train_dataset = create_subset_dataset(full_train_dataset, num_samples=size)\n",
    "        \n",
    "        # Create a new model with this architecture\n",
    "        if arch_name == 'efficientnet':\n",
    "            model = create_efficientnet_model(num_classes)\n",
    "        else:\n",
    "            model = CustomCNN(num_classes)\n",
    "            \n",
    "        model = model.to(device)\n",
    "        \n",
    "        experiment_name = f\"Reduced_Train_Size_{arch_name}_{size}\"\n",
    "        results = run_experiment(\n",
    "            experiment_name,\n",
    "            model,\n",
    "            reduced_train_dataset,\n",
    "            valid_dataset,\n",
    "            test_dataset,\n",
    "            hyperparams,\n",
    "            batch_size=128,\n",
    "            num_epochs=3\n",
    "        )\n",
    "        \n",
    "        reduction_results[experiment_name] = results\n",
    "        all_results[experiment_name] = results"
   ]
  },
  {
   "cell_type": "code",
   "execution_count": 26,
   "metadata": {},
   "outputs": [
    {
     "name": "stdout",
     "output_type": "stream",
     "text": [
      "\n",
      "============================== ENSEMBLE METHODS ==============================\n",
      "\n",
      "Training ensemble model 1/3...\n"
     ]
    },
    {
     "data": {
      "application/vnd.jupyter.widget-view+json": {
       "model_id": "fdc7c7f08fcf437488c9e2a732775209",
       "version_major": 2,
       "version_minor": 0
      },
      "text/plain": [
       "Epoch 1:   0%|          | 0/50 [00:00<?, ?it/s]"
      ]
     },
     "metadata": {},
     "output_type": "display_data"
    },
    {
     "name": "stdout",
     "output_type": "stream",
     "text": [
      "Epoch 1/2 | Train Acc: 88.31% | Valid Acc: 81.15%\n"
     ]
    },
    {
     "data": {
      "application/vnd.jupyter.widget-view+json": {
       "model_id": "42163b861bc24ceb865f780e4e56fa37",
       "version_major": 2,
       "version_minor": 0
      },
      "text/plain": [
       "Epoch 2:   0%|          | 0/50 [00:00<?, ?it/s]"
      ]
     },
     "metadata": {},
     "output_type": "display_data"
    },
    {
     "name": "stdout",
     "output_type": "stream",
     "text": [
      "Epoch 2/2 | Train Acc: 96.41% | Valid Acc: 81.06%\n",
      "\n",
      "Training ensemble model 2/3...\n"
     ]
    },
    {
     "data": {
      "application/vnd.jupyter.widget-view+json": {
       "model_id": "16c58b4887824d6da93c14790a504b9a",
       "version_major": 2,
       "version_minor": 0
      },
      "text/plain": [
       "Epoch 1:   0%|          | 0/50 [00:00<?, ?it/s]"
      ]
     },
     "metadata": {},
     "output_type": "display_data"
    },
    {
     "name": "stdout",
     "output_type": "stream",
     "text": [
      "Epoch 1/2 | Train Acc: 93.38% | Valid Acc: 77.89%\n"
     ]
    },
    {
     "data": {
      "application/vnd.jupyter.widget-view+json": {
       "model_id": "a4a153fe0aa44d4f99eccfffb4a98944",
       "version_major": 2,
       "version_minor": 0
      },
      "text/plain": [
       "Epoch 2:   0%|          | 0/50 [00:00<?, ?it/s]"
      ]
     },
     "metadata": {},
     "output_type": "display_data"
    },
    {
     "name": "stdout",
     "output_type": "stream",
     "text": [
      "Epoch 2/2 | Train Acc: 96.64% | Valid Acc: 79.39%\n",
      "\n",
      "Training ensemble model 3/3...\n"
     ]
    },
    {
     "data": {
      "application/vnd.jupyter.widget-view+json": {
       "model_id": "75b6b5d25de54e35955cc9861ce22399",
       "version_major": 2,
       "version_minor": 0
      },
      "text/plain": [
       "Epoch 1:   0%|          | 0/50 [00:00<?, ?it/s]"
      ]
     },
     "metadata": {},
     "output_type": "display_data"
    },
    {
     "name": "stdout",
     "output_type": "stream",
     "text": [
      "Epoch 1/2 | Train Acc: 93.34% | Valid Acc: 76.40%\n"
     ]
    },
    {
     "data": {
      "application/vnd.jupyter.widget-view+json": {
       "model_id": "239210e429b0469887cac7336c01b389",
       "version_major": 2,
       "version_minor": 0
      },
      "text/plain": [
       "Epoch 2:   0%|          | 0/50 [00:00<?, ?it/s]"
      ]
     },
     "metadata": {},
     "output_type": "display_data"
    },
    {
     "name": "stdout",
     "output_type": "stream",
     "text": [
      "Epoch 2/2 | Train Acc: 96.02% | Valid Acc: 77.55%\n",
      "Testing ensemble methods...\n",
      "Hard voting ensemble accuracy: 77.60%\n",
      "Soft voting ensemble accuracy: 77.60%\n"
     ]
    }
   ],
   "source": [
    "# 7. Ensemble Methods\n",
    "print(\"\\n\" + \"=\"*30 + \" ENSEMBLE METHODS \" + \"=\"*30)\n",
    "\n",
    "# Instead of trying to load saved model states which have different architectures,\n",
    "# let's train a few simple models separately for the ensemble\n",
    "\n",
    "# Create test data loader for ensemble evaluation\n",
    "test_loader = DataLoader(test_dataset, batch_size=128, shuffle=False, num_workers=0)\n",
    "\n",
    "# Train 3 different models with slight variations for the ensemble\n",
    "ensemble_models = []\n",
    "criterion = nn.CrossEntropyLoss()\n",
    "\n",
    "# 7. Ensemble Methods\n",
    "print(\"\\n\" + \"=\"*30 + \" ENSEMBLE METHODS \" + \"=\"*30)\n",
    "ensemble_results = {}\n",
    "\n",
    "for arch_name, model_creator in architectures.items():\n",
    "    print(f\"\\nTesting ensemble for architecture: {arch_name}\")\n",
    "    \n",
    "    # Train 3 different models with this architecture\n",
    "    ensemble_models = []\n",
    "    \n",
    "    for i in range(3):\n",
    "        print(f\"\\nTraining ensemble model {i+1}/3...\")\n",
    "        \n",
    "        # Create a new model with this architecture\n",
    "        if arch_name == 'efficientnet':\n",
    "            model = create_efficientnet_model(num_classes)\n",
    "        else:\n",
    "            model = CustomCNN(num_classes)\n",
    "            \n",
    "        model = model.to(device)\n",
    "        \n",
    "        # Rest of the training code...\n",
    "        # [existing ensemble creation code]\n",
    "        \n",
    "    # Test ensemble methods\n",
    "    print(f\"Testing ensemble methods for {arch_name}...\")\n",
    "    # Hard voting\n",
    "    hard_accuracy, hard_preds, hard_labels = ensemble_prediction(\n",
    "        ensemble_models,\n",
    "        test_loader,\n",
    "        device,\n",
    "        method='hard'\n",
    "    )\n",
    "    print(f\"Hard voting ensemble accuracy ({arch_name}): {hard_accuracy:.2f}%\")\n",
    "    \n",
    "    # Soft voting\n",
    "    soft_accuracy, soft_preds, soft_labels = ensemble_prediction(\n",
    "        ensemble_models,\n",
    "        test_loader,\n",
    "        device,\n",
    "        method='soft'\n",
    "    )\n",
    "    print(f\"Soft voting ensemble accuracy ({arch_name}): {soft_accuracy:.2f}%\")\n",
    "    \n",
    "    ensemble_results[arch_name] = {\n",
    "        'hard_voting': {\n",
    "            'accuracy': hard_accuracy,\n",
    "            'predictions': hard_preds,\n",
    "            'labels': hard_labels\n",
    "        },\n",
    "        'soft_voting': {\n",
    "            'accuracy': soft_accuracy,\n",
    "            'predictions': soft_preds,\n",
    "            'labels': soft_labels\n",
    "        }\n",
    "    }\n",
    "    all_results[f'ensemble_{arch_name}'] = ensemble_results[arch_name]"
   ]
  },
  {
   "cell_type": "code",
   "execution_count": 27,
   "metadata": {},
   "outputs": [
    {
     "name": "stdout",
     "output_type": "stream",
     "text": [
      "\n",
      "============================== RESULTS SUMMARY ==============================\n",
      "\n",
      "Architecture Comparison:\n",
      "efficientnet: 78.67%\n",
      "custom_cnn: 28.48%\n",
      "\n",
      "Training Hyperparameters Comparison:\n",
      "Training_Hyperparams_1 - {'optimizer': 'adam', 'learning_rate': 0.001, 'scheduler': 'plateau', 'weight_decay': 0.0001}: 77.96%\n",
      "Training_Hyperparams_2 - {'optimizer': 'sgd', 'learning_rate': 0.01, 'scheduler': 'plateau', 'weight_decay': 0.0001}: 81.65%\n",
      "Training_Hyperparams_3 - {'optimizer': 'adam', 'learning_rate': 0.001, 'scheduler': 'cosine', 'weight_decay': 0.0001}: 81.79%\n",
      "\n",
      "Regularization Hyperparameters Comparison:\n",
      "Regularization_Hyperparams_1 - Weight Decay: 0.0001: 78.15%\n",
      "Regularization_Hyperparams_2 - Weight Decay: 0.001: 76.45%\n",
      "Regularization_Hyperparams_3 - Weight Decay: 0.0: 76.17%\n",
      "\n",
      "Data Augmentation Comparison:\n",
      "Augmentation_baseline: 79.96%\n",
      "Augmentation_horizontal_flip: 79.60%\n",
      "Augmentation_rotation: 81.10%\n",
      "Augmentation_color_jitter: 80.74%\n",
      "Augmentation_cutout: 81.58%\n",
      "\n",
      "Few-shot Learning (5-way, 5-shot): 73.53% ± 8.09%\n",
      "\n",
      "Reduced Training Set Size Comparison:\n",
      "Size 4000: 81.66%\n",
      "Size 2000: 81.54%\n",
      "\n",
      "Ensemble Hard Voting: 77.60%\n",
      "Ensemble Soft Voting: 77.60%\n"
     ]
    }
   ],
   "source": [
    "# 8. Summarize and Visualize Results\n",
    "print(\"\\n\" + \"=\"*30 + \" RESULTS SUMMARY \" + \"=\"*30)\n",
    "\n",
    "# 1. Architecture Comparison\n",
    "print(\"\\nArchitecture Comparison:\")\n",
    "for arch_name, results in architecture_results.items():\n",
    "    print(f\"{arch_name}: {results['test_accuracy']:.2f}%\")\n",
    "\n",
    "# 2. Training Hyperparameters\n",
    "print(\"\\nTraining Hyperparameters Comparison:\")\n",
    "for name, results in training_results.items():\n",
    "    # Extract architecture name from the experiment name\n",
    "    parts = name.split('_')\n",
    "    if len(parts) > 2:  # If it contains architecture info\n",
    "        arch = parts[2]  # Architecture name should be the third part\n",
    "        print(f\"{name} ({arch}) - {results['hyperparams']}: {results['test_accuracy']:.2f}%\")\n",
    "    else:\n",
    "        print(f\"{name} - {results['hyperparams']}: {results['test_accuracy']:.2f}%\")\n",
    "\n",
    "# 3. Regularization Hyperparameters\n",
    "print(\"\\nRegularization Hyperparameters Comparison:\")\n",
    "for name, results in regularization_results.items():\n",
    "    # Extract architecture name if present\n",
    "    parts = name.split('_')\n",
    "    if len(parts) > 2:  # If it contains architecture info\n",
    "        arch = parts[2]  # Architecture name should be the third part\n",
    "        print(f\"{name} ({arch}) - Weight Decay: {results['hyperparams']['weight_decay']}: {results['test_accuracy']:.2f}%\")\n",
    "    else:\n",
    "        print(f\"{name} - Weight Decay: {results['hyperparams']['weight_decay']}: {results['test_accuracy']:.2f}%\")\n",
    "\n",
    "# 4. Data Augmentation\n",
    "print(\"\\nData Augmentation Comparison:\")\n",
    "for name, results in augmentation_results.items():\n",
    "    print(f\"{name}: {results['test_accuracy']:.2f}%\")\n",
    "\n",
    "# 5. Few-shot Learning\n",
    "print(\"\\nFew-shot Learning Comparison:\")\n",
    "for arch_name, result in few_shot_results.items():\n",
    "    print(f\"{arch_name}: {result['accuracy']:.2f}% ± {result['std']:.2f}%\")\n",
    "\n",
    "# 6. Reduced Training Set Size\n",
    "print(\"\\nReduced Training Set Size Comparison:\")\n",
    "for name, results in reduction_results.items():\n",
    "    parts = name.split('_')\n",
    "    if len(parts) > 3:  # If it contains architecture info\n",
    "        arch = parts[3]  # Architecture name\n",
    "        size = parts[4]  # Size should be the last part\n",
    "        print(f\"Size {size} ({arch}): {results['test_accuracy']:.2f}%\")\n",
    "    else:\n",
    "        size = name.split('_')[-1]\n",
    "        print(f\"Size {size}: {results['test_accuracy']:.2f}%\")\n",
    "\n",
    "# 7. Ensemble Methods\n",
    "print(\"\\nEnsemble Methods Comparison:\")\n",
    "if isinstance(ensemble_results, dict):\n",
    "    # Check if we have separate results for each architecture\n",
    "    if 'efficientnet' in ensemble_results or 'custom_cnn' in ensemble_results:\n",
    "        for arch, results in ensemble_results.items():\n",
    "            print(f\"{arch} - Hard Voting: {results['hard_voting']['accuracy']:.2f}%\")\n",
    "            print(f\"{arch} - Soft Voting: {results['soft_voting']['accuracy']:.2f}%\")\n",
    "    else:\n",
    "        # Original format\n",
    "        print(f\"Hard Voting: {ensemble_results['hard_voting']['accuracy']:.2f}%\")\n",
    "        print(f\"Soft Voting: {ensemble_results['soft_voting']['accuracy']:.2f}%\")"
   ]
  },
  {
   "cell_type": "code",
   "execution_count": 28,
   "metadata": {},
   "outputs": [
    {
     "data": {
      "image/png": "[encoded data removed]",
      "text/plain": [
       "<Figure size 1500x1000 with 4 Axes>"
      ]
     },
     "metadata": {},
     "output_type": "display_data"
    }
   ],
   "source": [
    "# Create visualizations\n",
    "\n",
    "# 1. Plot test accuracies\n",
    "plt.figure(figsize=(15, 10))\n",
    "\n",
    "# Architecture comparison\n",
    "plt.subplot(2, 2, 1)\n",
    "arch_names = list(architecture_results.keys())\n",
    "arch_accs = [architecture_results[n]['test_accuracy'] for n in arch_names]\n",
    "plt.bar(arch_names, arch_accs)\n",
    "plt.title('Architecture Comparison')\n",
    "plt.ylabel('Test Accuracy (%)')\n",
    "plt.ylim(0, 100)\n",
    "\n",
    "# Augmentation comparison\n",
    "plt.subplot(2, 2, 2)\n",
    "aug_names = [name.split('_')[1] for name in augmentation_results.keys()]\n",
    "aug_accs = [augmentation_results[name]['test_accuracy'] for name in augmentation_results.keys()]\n",
    "plt.bar(aug_names, aug_accs)\n",
    "plt.title('Data Augmentation Comparison')\n",
    "plt.ylabel('Test Accuracy (%)')\n",
    "plt.ylim(0, 100)\n",
    "\n",
    "# Reduced training set size\n",
    "plt.subplot(2, 2, 3)\n",
    "sizes = [name.split('_')[-1] for name in reduction_results.keys()]\n",
    "size_accs = [reduction_results[name]['test_accuracy'] for name in reduction_results.keys()]\n",
    "# Add the full dataset result\n",
    "sizes.append(str(TRAIN_SUBSET_SIZE))\n",
    "size_accs.append(all_results['Architecture_efficientnet']['test_accuracy'])\n",
    "plt.bar(sizes, size_accs)\n",
    "plt.title('Reduced Training Set Size')\n",
    "plt.xlabel('Number of Training Samples')\n",
    "plt.ylabel('Test Accuracy (%)')\n",
    "plt.ylim(0, 100)\n",
    "\n",
    "# Ensemble comparison\n",
    "plt.subplot(2, 2, 4)\n",
    "methods = ['Hard Voting', 'Soft Voting', 'Best Single Model']\n",
    "accuracies = [\n",
    "    ensemble_results['hard_voting']['accuracy'],\n",
    "    ensemble_results['soft_voting']['accuracy'],\n",
    "    max([results['test_accuracy'] for name, results in all_results.items() if 'test_accuracy' in results])\n",
    "]\n",
    "plt.bar(methods, accuracies)\n",
    "plt.title('Ensemble Methods Comparison')\n",
    "plt.ylabel('Test Accuracy (%)')\n",
    "plt.ylim(0, 100)\n",
    "\n",
    "plt.tight_layout()\n",
    "plt.savefig('experiment_results_summary.png')\n",
    "plt.show()"
   ]
  },
  {
   "cell_type": "code",
   "execution_count": 29,
   "metadata": {},
   "outputs": [
    {
     "name": "stdout",
     "output_type": "stream",
     "text": [
      "\n",
      "Experiment results saved to 'experiment_results.json'\n",
      "Summary visualizations saved to 'experiment_results_summary.png'\n",
      "Full results including model states saved to 'full_experiment_results.pkl'\n",
      "\n",
      "============================== EXPERIMENTS COMPLETED ==============================\n"
     ]
    }
   ],
   "source": [
    "# Save all results to file\n",
    "import json\n",
    "import pickle\n",
    "import numpy as np\n",
    "\n",
    "# Convert numpy arrays to lists for JSON serialization\n",
    "def convert_numpy_to_list(obj):\n",
    "    # Handle NumPy scalars (int64, float32, etc.)\n",
    "    if isinstance(obj, np.number):\n",
    "        return obj.item()  # Convert to native Python type\n",
    "    # Handle NumPy arrays\n",
    "    elif isinstance(obj, np.ndarray):\n",
    "        return obj.tolist()\n",
    "    # Handle dictionaries\n",
    "    elif isinstance(obj, dict):\n",
    "        return {k: convert_numpy_to_list(v) for k, v in obj.items()}\n",
    "    # Handle lists and tuples\n",
    "    elif isinstance(obj, (list, tuple)):\n",
    "        return [convert_numpy_to_list(item) for item in obj]\n",
    "    # Return other objects unchanged\n",
    "    else:\n",
    "        return obj\n",
    "\n",
    "# Convert all results\n",
    "serializable_results = convert_numpy_to_list(all_results)\n",
    "\n",
    "# Remove model states which can't be serialized easily\n",
    "for key in serializable_results:\n",
    "    if isinstance(serializable_results[key], dict) and 'model_state' in serializable_results[key]:\n",
    "        del serializable_results[key]['model_state']\n",
    "\n",
    "# Save as JSON for easy viewing\n",
    "with open('experiment_results.json', 'w') as f:\n",
    "    try:\n",
    "        json.dump(serializable_results, f, indent=2)\n",
    "        print(\"\\nExperiment results saved to 'experiment_results.json'\")\n",
    "    except TypeError as e:\n",
    "        print(f\"Error saving JSON: {e}\")\n",
    "        print(\"Trying to identify problematic fields...\")\n",
    "        # Try to identify problematic fields\n",
    "        for key in serializable_results:\n",
    "            try:\n",
    "                json.dumps(serializable_results[key])\n",
    "            except TypeError as e:\n",
    "                print(f\"Problematic field: {key}, Error: {e}\")\n",
    "                # Try to remove or fix this field\n",
    "                if isinstance(serializable_results[key], dict):\n",
    "                    for subkey in list(serializable_results[key].keys()):\n",
    "                        try:\n",
    "                            json.dumps(serializable_results[key][subkey])\n",
    "                        except TypeError:\n",
    "                            print(f\"Removing problematic subfield: {key}.{subkey}\")\n",
    "                            serializable_results[key][subkey] = str(serializable_results[key][subkey])\n",
    "        \n",
    "        # Try again with the fixed data\n",
    "        try:\n",
    "            json.dump(serializable_results, f, indent=2)\n",
    "            print(\"Successfully saved JSON after fixing problematic fields\")\n",
    "        except TypeError:\n",
    "            print(\"Could not save JSON, falling back to simple format\")\n",
    "            # Save in a simpler format\n",
    "            with open('experiment_results_simple.txt', 'w') as f:\n",
    "                for key, value in serializable_results.items():\n",
    "                    f.write(f\"{key}: {str(value)}\\n\")\n",
    "\n",
    "print(\"Summary visualizations saved to 'experiment_results_summary.png'\")\n",
    "\n",
    "# Save full results including model states with pickle\n",
    "try:\n",
    "    with open('full_experiment_results.pkl', 'wb') as f:\n",
    "        pickle.dump(all_results, f)\n",
    "    print(\"Full results including model states saved to 'full_experiment_results.pkl'\")\n",
    "except Exception as e:\n",
    "    print(f\"Warning: Could not save full results with model states. Error: {e}\")\n",
    "\n",
    "print(\"\\n\" + \"=\"*30 + \" EXPERIMENTS COMPLETED \" + \"=\"*30)"
   ]
  }
 ],
 "metadata": {
  "kernelspec": {
   "display_name": "deep_learning",
   "language": "python",
   "name": "python3"
  },
  "language_info": {
   "codemirror_mode": {
    "name": "ipython",
    "version": 3
   },
   "file_extension": ".py",
   "mimetype": "text/x-python",
   "name": "python",
   "nbconvert_exporter": "python",
   "pygments_lexer": "ipython3",
   "version": "3.11.11"
  }
 },
 "nbformat": 4,
 "nbformat_minor": 2
}
