{
 "cells": [
  {
   "cell_type": "code",
   "execution_count": null,
   "metadata": {},
   "outputs": [],
   "source": [
    "from google.colab import drive\n",
    "drive.mount('/content/drive')"
   ]
  },
  {
   "cell_type": "code",
   "execution_count": null,
   "metadata": {},
   "outputs": [],
   "source": [
    "import pathlib, os, subprocess, json, datetime, shutil\n",
    "\n",
    "REPO_URL   = \"https://github.com/SzymonSmagowski/DeepLearningCourse.git\"\n",
    "BRANCH     = \"main\"\n",
    "DATA_IN_DRIVE = \"data/speech_commands_v0.01\"\n",
    "\n",
    "ROOT_DRIVE   = pathlib.Path(\"/content/drive/MyDrive\")\n",
    "DATA_SRC     = ROOT_DRIVE / DATA_IN_DRIVE\n",
    "DATA_DST     = pathlib.Path(\"/content/data\")                        # where the script expects it\n",
    "REPO_DIR     = pathlib.Path(\"/content\") / pathlib.Path(REPO_URL).stem / \"project_2\"\n",
    "LOGS_DRIVE   = ROOT_DRIVE / \"speech_runs\"      # all logs live here\n",
    "\n",
    "print(\"Repo dir :\", REPO_DIR)\n",
    "print(\"Data src :\", DATA_SRC)\n",
    "print(\"Data dst :\", DATA_DST)\n",
    "print(\"Logs dir :\", LOGS_DRIVE)"
   ]
  },
  {
   "cell_type": "code",
   "execution_count": null,
   "metadata": {},
   "outputs": [],
   "source": [
    "if not REPO_DIR.exists():\n",
    "    !git clone -b \"$BRANCH\" \"$REPO_URL\" \"$REPO_DIR\"\n",
    "else:\n",
    "    %cd $REPO_DIR\n",
    "    !git pull origin \"$BRANCH\"\n",
    "    %cd -"
   ]
  },
  {
   "cell_type": "code",
   "execution_count": null,
   "metadata": {},
   "outputs": [],
   "source": [
    "# -----------------------------------------------------------\n",
    "# 📦  Get Speech-Commands into /content/data\n",
    "#   1. If the *folder* already exists  → use it\n",
    "#   2. Else if Drive has an extracted folder → symlink / copy\n",
    "#   3. Else if Drive only has  *.tar.gz       → untar it once\n",
    "# -----------------------------------------------------------\n",
    "import tarfile, time, shutil, pathlib, os\n",
    "\n",
    "DATA_TAR = ROOT_DRIVE / f\"{DATA_IN_DRIVE}.tar.gz\"   # e.g. …/speech_commands_v0.01.tar.gz\n",
    "DATA_DST.mkdir(parents=True, exist_ok=True)         # creates /content/data *parent*\n",
    "\n",
    "if (DATA_DST / \"speech_commands_v0.01\").exists():\n",
    "    print(\"✓ dataset already present in /content — nothing to do\")\n",
    "\n",
    "elif (DATA_SRC).exists():\n",
    "    # DATA_SRC points to the *folder* in Drive\n",
    "    try:\n",
    "        # fastest\n",
    "        (DATA_DST / \"speech_commands_v0.01\").symlink_to(DATA_SRC, target_is_directory=True)\n",
    "        print(\"🔗  Created symlink from Drive → /content\")\n",
    "    except Exception as e:\n",
    "        print(\"Symlink failed (likely permissions); copying files …\")\n",
    "        shutil.copytree(DATA_SRC, DATA_DST / \"speech_commands_v0.01\")\n",
    "\n",
    "elif DATA_TAR.exists():\n",
    "    print(\"📦  Found compressed tarball in Drive – extracting …\")\n",
    "    t0 = time.time()\n",
    "    with tarfile.open(DATA_TAR, \"r:gz\") as tf:\n",
    "        tf.extractall(path=DATA_DST)\n",
    "    print(f\"✓ extracted in {time.time() - t0:.1f}s →\",\n",
    "          (DATA_DST / 'speech_commands_v0.01').as_posix())\n",
    "else:\n",
    "    raise FileNotFoundError(\n",
    "        f\"Dataset not found!\\nLooked for:\\n  • {DATA_SRC}\\n  • {DATA_TAR}\"\n",
    "    )"
   ]
  },
  {
   "cell_type": "code",
   "execution_count": null,
   "metadata": {},
   "outputs": [],
   "source": [
    "!pip install -q torch torchaudio librosa tqdm matplotlib seaborn scikit-learn"
   ]
  },
  {
   "cell_type": "code",
   "execution_count": null,
   "metadata": {},
   "outputs": [],
   "source": [
    "!chmod +x $REPO_DIR/run_all.sh"
   ]
  },
  {
   "cell_type": "code",
   "execution_count": null,
   "metadata": {},
   "outputs": [],
   "source": [
    "ts   = datetime.datetime.now().strftime(\"%Y%m%d_%H%M%S\")\n",
    "logf = LOGS_DRIVE / f\"run_all_{ts}.log\"\n",
    "logf.parent.mkdir(exist_ok=True, parents=True)\n",
    "\n",
    "cmd  = f\"bash {REPO_DIR}/run_all.sh 2>&1 | tee {logf}\"\n",
    "print(\"⇢ running:\", cmd)\n",
    "exit_code = subprocess.call(cmd, shell=True)\n",
    "print(\"\\n=== finished, exit code:\", exit_code, \"===\")\n",
    "print(\"Full log saved to\", logf)"
   ]
  }
 ],
 "metadata": {
  "kernelspec": {
   "display_name": "deep-learning",
   "language": "python",
   "name": "python3"
  },
  "language_info": {
   "name": "python",
   "version": "3.12.3"
  }
 },
 "nbformat": 4,
 "nbformat_minor": 2
}
