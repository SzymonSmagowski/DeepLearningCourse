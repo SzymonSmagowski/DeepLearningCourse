{
 "cells": [
  {
   "cell_type": "code",
   "execution_count": null,
   "metadata": {},
   "outputs": [],
   "source": [
    "from google.colab import drive\n",
    "drive.mount('/content/drive')"
   ]
  },
  {
   "cell_type": "code",
   "execution_count": null,
   "metadata": {},
   "outputs": [],
   "source": [
    "import pathlib, os, subprocess, json, datetime, shutil\n",
    "\n",
    "REPO_URL   = \"https://github.com/SzymonSmagowski/DeepLearningCourse.git\"\n",
    "BRANCH     = \"main\"\n",
    "DATA_IN_DRIVE = \"data/speech_commands_v0.01\"\n",
    "\n",
    "ROOT_DRIVE   = pathlib.Path(\"/content/drive/MyDrive\")\n",
    "DATA_SRC     = ROOT_DRIVE / DATA_IN_DRIVE\n",
    "DATA_DST     = pathlib.Path(\"/content/data\")                        # where the script expects it\n",
    "REPO_DIR     = pathlib.Path(\"/content\") / pathlib.Path(REPO_URL).stem\n",
    "LOGS_DRIVE   = ROOT_DRIVE / \"speech_runs\"      # all logs live here\n",
    "\n",
    "print(\"Repo dir :\", REPO_DIR)\n",
    "print(\"Data src :\", DATA_SRC)\n",
    "print(\"Data dst :\", DATA_DST)\n",
    "print(\"Logs dir :\", LOGS_DRIVE)"
   ]
  },
  {
   "cell_type": "code",
   "execution_count": null,
   "metadata": {},
   "outputs": [],
   "source": [
    "if not REPO_DIR.exists():\n",
    "    !git clone -b \"$BRANCH\" \"$REPO_URL\" \"$REPO_DIR\"\n",
    "else:\n",
    "    %cd $REPO_DIR\n",
    "    !git pull origin \"$BRANCH\"\n",
    "    %cd -"
   ]
  },
  {
   "cell_type": "code",
   "execution_count": null,
   "metadata": {},
   "outputs": [],
   "source": [
    "# Fast option: symlink (needs Drive mounted read-only)\n",
    "if DATA_DST.exists():\n",
    "    print(\"✓ dataset already present\")\n",
    "else:\n",
    "    DATA_DST.parent.mkdir(parents=True, exist_ok=True)\n",
    "    try:\n",
    "        DATA_DST.symlink_to(DATA_SRC, target_is_directory=True)\n",
    "        print(\"Created symlink → much faster\")\n",
    "    except Exception as e:\n",
    "        print(\"Symlink failed, falling back to copy (may take 2-3 min)…\")\n",
    "        shutil.copytree(DATA_SRC, DATA_DST)"
   ]
  },
  {
   "cell_type": "code",
   "execution_count": null,
   "metadata": {},
   "outputs": [],
   "source": [
    "!pip install -q torch torchaudio librosa tqdm matplotlib seaborn scikit-learn"
   ]
  }
 ],
 "metadata": {
  "kernelspec": {
   "display_name": "deep-learning",
   "language": "python",
   "name": "python3"
  },
  "language_info": {
   "name": "python",
   "version": "3.12.3"
  }
 },
 "nbformat": 4,
 "nbformat_minor": 2
}
